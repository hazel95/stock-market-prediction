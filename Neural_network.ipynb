{
 "cells": [
  {
   "cell_type": "code",
   "execution_count": 1,
   "metadata": {},
   "outputs": [],
   "source": [
    "import datetime\n",
    "from nowtrade.symbol_list import StockList\n",
    "from nowtrade.data_connection import MongoDatabaseConnection\n",
    "from nowtrade import dataset \n",
    "from nowtrade import technical_indicator\n",
    "from nowtrade import criteria\n",
    "from nowtrade import criteria_group\n",
    "from nowtrade import trading_profile\n",
    "from nowtrade import trading_amount\n",
    "from nowtrade import trading_fee\n",
    "from nowtrade import strategy\n",
    "from nowtrade import neural_network\n",
    "from nowtrade.action import Long\n",
    "from nowtrade.action import Short\n",
    "from nowtrade.action import LongExit\n",
    "from nowtrade.action import ShortExit"
   ]
  },
  {
   "cell_type": "code",
   "execution_count": 2,
   "metadata": {
    "collapsed": true
   },
   "outputs": [],
   "source": [
    "#dc= data_connection.MongoDatabaseConnection()"
   ]
  },
  {
   "cell_type": "code",
   "execution_count": 3,
   "metadata": {
    "collapsed": true
   },
   "outputs": [],
   "source": [
    "sl=StockList(['GOOGL'])"
   ]
  },
  {
   "cell_type": "code",
   "execution_count": 4,
   "metadata": {
    "collapsed": true
   },
   "outputs": [],
   "source": [
    "symbol= sl.get('GOOGL')"
   ]
  },
  {
   "cell_type": "code",
   "execution_count": 5,
   "metadata": {
    "collapsed": true,
    "scrolled": true
   },
   "outputs": [],
   "source": [
    "train_start = datetime.datetime(2013, 01, 03)\n",
    "train_end = datetime.datetime(2016,01, 01)\n",
    "train_dataset = dataset.Dataset(sl, MongoDatabaseConnection(), train_start, train_end)\n",
    "#train_dataset=dc.get_data(symbol,train_start,train_end)"
   ]
  },
  {
   "cell_type": "code",
   "execution_count": 6,
   "metadata": {
    "collapsed": true
   },
   "outputs": [],
   "source": [
    "train_dataset.load_data()"
   ]
  },
  {
   "cell_type": "code",
   "execution_count": 7,
   "metadata": {},
   "outputs": [
    {
     "data": {
      "text/plain": [
       "Index([u'GOOGL_Close', u'GOOGL_High', u'GOOGL_Low', u'GOOGL_Open',\n",
       "       u'GOOGL_Volume'],\n",
       "      dtype='object')"
      ]
     },
     "execution_count": 7,
     "metadata": {},
     "output_type": "execute_result"
    }
   ],
   "source": [
    "train_dataset.data_frame.columns"
   ]
  },
  {
   "cell_type": "code",
   "execution_count": 8,
   "metadata": {},
   "outputs": [
    {
     "data": {
      "text/html": [
       "<div>\n",
       "<style>\n",
       "    .dataframe thead tr:only-child th {\n",
       "        text-align: right;\n",
       "    }\n",
       "\n",
       "    .dataframe thead th {\n",
       "        text-align: left;\n",
       "    }\n",
       "\n",
       "    .dataframe tbody tr th {\n",
       "        vertical-align: top;\n",
       "    }\n",
       "</style>\n",
       "<table border=\"1\" class=\"dataframe\">\n",
       "  <thead>\n",
       "    <tr style=\"text-align: right;\">\n",
       "      <th></th>\n",
       "      <th>GOOGL_Close</th>\n",
       "      <th>GOOGL_High</th>\n",
       "      <th>GOOGL_Low</th>\n",
       "      <th>GOOGL_Open</th>\n",
       "      <th>GOOGL_Volume</th>\n",
       "    </tr>\n",
       "    <tr>\n",
       "      <th>Date</th>\n",
       "      <th></th>\n",
       "      <th></th>\n",
       "      <th></th>\n",
       "      <th></th>\n",
       "      <th></th>\n",
       "    </tr>\n",
       "  </thead>\n",
       "  <tbody>\n",
       "    <tr>\n",
       "      <th>2013-01-03</th>\n",
       "      <td>362.20</td>\n",
       "      <td>366.33</td>\n",
       "      <td>360.72</td>\n",
       "      <td>362.83</td>\n",
       "      <td>2318140.0</td>\n",
       "    </tr>\n",
       "    <tr>\n",
       "      <th>2013-01-04</th>\n",
       "      <td>369.35</td>\n",
       "      <td>371.11</td>\n",
       "      <td>364.20</td>\n",
       "      <td>365.03</td>\n",
       "      <td>2763552.0</td>\n",
       "    </tr>\n",
       "    <tr>\n",
       "      <th>2013-01-07</th>\n",
       "      <td>367.74</td>\n",
       "      <td>370.06</td>\n",
       "      <td>365.66</td>\n",
       "      <td>368.09</td>\n",
       "      <td>1655967.0</td>\n",
       "    </tr>\n",
       "    <tr>\n",
       "      <th>2013-01-08</th>\n",
       "      <td>367.02</td>\n",
       "      <td>368.52</td>\n",
       "      <td>362.58</td>\n",
       "      <td>368.14</td>\n",
       "      <td>1676740.0</td>\n",
       "    </tr>\n",
       "    <tr>\n",
       "      <th>2013-01-09</th>\n",
       "      <td>369.43</td>\n",
       "      <td>369.54</td>\n",
       "      <td>364.66</td>\n",
       "      <td>366.50</td>\n",
       "      <td>2025751.0</td>\n",
       "    </tr>\n",
       "  </tbody>\n",
       "</table>\n",
       "</div>"
      ],
      "text/plain": [
       "            GOOGL_Close  GOOGL_High  GOOGL_Low  GOOGL_Open  GOOGL_Volume\n",
       "Date                                                                    \n",
       "2013-01-03       362.20      366.33     360.72      362.83     2318140.0\n",
       "2013-01-04       369.35      371.11     364.20      365.03     2763552.0\n",
       "2013-01-07       367.74      370.06     365.66      368.09     1655967.0\n",
       "2013-01-08       367.02      368.52     362.58      368.14     1676740.0\n",
       "2013-01-09       369.43      369.54     364.66      366.50     2025751.0"
      ]
     },
     "execution_count": 8,
     "metadata": {},
     "output_type": "execute_result"
    }
   ],
   "source": [
    "train_dataset.data_frame.head()"
   ]
  },
  {
   "cell_type": "code",
   "execution_count": 9,
   "metadata": {
    "collapsed": true
   },
   "outputs": [],
   "source": [
    "#nn = neural_network.NeuralNetwork([symbol.open, symbol.high, symbol.low, symbol.close, symbol.volume], [symbol.close])\n",
    "nn = neural_network.NeuralNetwork([symbol.open, symbol.high, symbol.low, symbol.close, symbol.volume], [symbol.close])"
   ]
  },
  {
   "cell_type": "code",
   "execution_count": 10,
   "metadata": {
    "collapsed": true
   },
   "outputs": [],
   "source": [
    "nn.build_network(train_dataset, hidden_layers=3, prediction_window=1, learning_rate=0.001, momentum=0.1)"
   ]
  },
  {
   "cell_type": "code",
   "execution_count": 11,
   "metadata": {
    "collapsed": true
   },
   "outputs": [],
   "source": [
    "train_intervals= 10"
   ]
  },
  {
   "cell_type": "code",
   "execution_count": 12,
   "metadata": {},
   "outputs": [
    {
     "data": {
      "text/plain": [
       "['GOOGL_Open', 'GOOGL_High', 'GOOGL_Low', 'GOOGL_Close', 'GOOGL_Volume']"
      ]
     },
     "execution_count": 12,
     "metadata": {},
     "output_type": "execute_result"
    }
   ],
   "source": [
    "nn.train_data"
   ]
  },
  {
   "cell_type": "code",
   "execution_count": 13,
   "metadata": {},
   "outputs": [
    {
     "name": "stdout",
     "output_type": "stream",
     "text": [
      "Total error: 2.80190781878\n",
      "Total error: 0.0333273971287\n",
      "Total error: 0.0155527166898\n",
      "Total error: 0.0154602989559\n",
      "Total error: 0.0154414353166\n",
      "Total error: 0.0154510029118\n",
      "Total error: 0.0154196941457\n",
      "Total error: 0.0154564493573\n",
      "Total error: 0.0154522378239\n",
      "Total error: 0.0154470953958\n"
     ]
    }
   ],
   "source": [
    "for i in range(train_intervals): nn.train()"
   ]
  },
  {
   "cell_type": "code",
   "execution_count": 14,
   "metadata": {
    "collapsed": true
   },
   "outputs": [],
   "source": [
    "nn.save_to_file('test.nn')"
   ]
  },
  {
   "cell_type": "code",
   "execution_count": 15,
   "metadata": {
    "collapsed": true
   },
   "outputs": [],
   "source": [
    "nn = neural_network.load_from_file('test.nn')"
   ]
  },
  {
   "cell_type": "code",
   "execution_count": 16,
   "metadata": {
    "collapsed": true
   },
   "outputs": [],
   "source": [
    "test_start = train_end\n",
    "test_end = datetime.datetime(2017, 04, 15)\n",
    "test_dataset = dataset.Dataset(sl, MongoDatabaseConnection(), test_start, test_end)"
   ]
  },
  {
   "cell_type": "code",
   "execution_count": 17,
   "metadata": {
    "collapsed": true
   },
   "outputs": [],
   "source": [
    "test_dataset.load_data()"
   ]
  },
  {
   "cell_type": "code",
   "execution_count": 18,
   "metadata": {
    "collapsed": true
   },
   "outputs": [],
   "source": [
    "neural_network = technical_indicator.NeuralNetwork(nn)"
   ]
  },
  {
   "cell_type": "code",
   "execution_count": 19,
   "metadata": {
    "collapsed": true
   },
   "outputs": [],
   "source": [
    "test_dataset.add_technical_indicator(neural_network)"
   ]
  },
  {
   "cell_type": "code",
   "execution_count": 20,
   "metadata": {
    "collapsed": true
   },
   "outputs": [],
   "source": [
    "threshold_above = technical_indicator.Addition(neural_network.value, 5)"
   ]
  },
  {
   "cell_type": "code",
   "execution_count": 21,
   "metadata": {
    "collapsed": true
   },
   "outputs": [],
   "source": [
    "test_dataset.add_technical_indicator(threshold_above)"
   ]
  },
  {
   "cell_type": "code",
   "execution_count": 22,
   "metadata": {
    "collapsed": true
   },
   "outputs": [],
   "source": [
    "threshold_below = technical_indicator.Subtraction(neural_network.value, 5)\n",
    "test_dataset.add_technical_indicator(threshold_below)"
   ]
  },
  {
   "cell_type": "code",
   "execution_count": 23,
   "metadata": {},
   "outputs": [
    {
     "data": {
      "text/html": [
       "<div>\n",
       "<style>\n",
       "    .dataframe thead tr:only-child th {\n",
       "        text-align: right;\n",
       "    }\n",
       "\n",
       "    .dataframe thead th {\n",
       "        text-align: left;\n",
       "    }\n",
       "\n",
       "    .dataframe tbody tr th {\n",
       "        vertical-align: top;\n",
       "    }\n",
       "</style>\n",
       "<table border=\"1\" class=\"dataframe\">\n",
       "  <thead>\n",
       "    <tr style=\"text-align: right;\">\n",
       "      <th></th>\n",
       "      <th>GOOGL_Close</th>\n",
       "      <th>GOOGL_High</th>\n",
       "      <th>GOOGL_Low</th>\n",
       "      <th>GOOGL_Open</th>\n",
       "      <th>GOOGL_Volume</th>\n",
       "      <th>NEURAL_NETWORK_c529eda5-cea3-4431-b707-ba66fc1f2e8a</th>\n",
       "      <th>ADDITION_NEURAL_NETWORK_c529eda5-cea3-4431-b707-ba66fc1f2e8a_5</th>\n",
       "      <th>SUBTRACTION_NEURAL_NETWORK_c529eda5-cea3-4431-b707-ba66fc1f2e8a_5</th>\n",
       "    </tr>\n",
       "    <tr>\n",
       "      <th>Date</th>\n",
       "      <th></th>\n",
       "      <th></th>\n",
       "      <th></th>\n",
       "      <th></th>\n",
       "      <th></th>\n",
       "      <th></th>\n",
       "      <th></th>\n",
       "      <th></th>\n",
       "    </tr>\n",
       "  </thead>\n",
       "  <tbody>\n",
       "    <tr>\n",
       "      <th>2016-01-04</th>\n",
       "      <td>759.44</td>\n",
       "      <td>762.20</td>\n",
       "      <td>747.54</td>\n",
       "      <td>762.20</td>\n",
       "      <td>3352912.0</td>\n",
       "      <td>534.158172</td>\n",
       "      <td>539.158172</td>\n",
       "      <td>529.158172</td>\n",
       "    </tr>\n",
       "    <tr>\n",
       "      <th>2016-01-05</th>\n",
       "      <td>761.53</td>\n",
       "      <td>769.20</td>\n",
       "      <td>755.65</td>\n",
       "      <td>764.10</td>\n",
       "      <td>2260795.0</td>\n",
       "      <td>534.158161</td>\n",
       "      <td>539.158161</td>\n",
       "      <td>529.158161</td>\n",
       "    </tr>\n",
       "    <tr>\n",
       "      <th>2016-01-06</th>\n",
       "      <td>759.33</td>\n",
       "      <td>765.73</td>\n",
       "      <td>748.00</td>\n",
       "      <td>750.37</td>\n",
       "      <td>2410301.0</td>\n",
       "      <td>534.158161</td>\n",
       "      <td>539.158161</td>\n",
       "      <td>529.158161</td>\n",
       "    </tr>\n",
       "    <tr>\n",
       "      <th>2016-01-07</th>\n",
       "      <td>741.00</td>\n",
       "      <td>755.31</td>\n",
       "      <td>735.28</td>\n",
       "      <td>746.49</td>\n",
       "      <td>3156563.0</td>\n",
       "      <td>534.158166</td>\n",
       "      <td>539.158166</td>\n",
       "      <td>529.158166</td>\n",
       "    </tr>\n",
       "    <tr>\n",
       "      <th>2016-01-08</th>\n",
       "      <td>730.91</td>\n",
       "      <td>750.12</td>\n",
       "      <td>728.92</td>\n",
       "      <td>747.80</td>\n",
       "      <td>2375348.0</td>\n",
       "      <td>534.158158</td>\n",
       "      <td>539.158158</td>\n",
       "      <td>529.158158</td>\n",
       "    </tr>\n",
       "  </tbody>\n",
       "</table>\n",
       "</div>"
      ],
      "text/plain": [
       "            GOOGL_Close  GOOGL_High  GOOGL_Low  GOOGL_Open  GOOGL_Volume  \\\n",
       "Date                                                                       \n",
       "2016-01-04       759.44      762.20     747.54      762.20     3352912.0   \n",
       "2016-01-05       761.53      769.20     755.65      764.10     2260795.0   \n",
       "2016-01-06       759.33      765.73     748.00      750.37     2410301.0   \n",
       "2016-01-07       741.00      755.31     735.28      746.49     3156563.0   \n",
       "2016-01-08       730.91      750.12     728.92      747.80     2375348.0   \n",
       "\n",
       "            NEURAL_NETWORK_c529eda5-cea3-4431-b707-ba66fc1f2e8a  \\\n",
       "Date                                                              \n",
       "2016-01-04                                         534.158172     \n",
       "2016-01-05                                         534.158161     \n",
       "2016-01-06                                         534.158161     \n",
       "2016-01-07                                         534.158166     \n",
       "2016-01-08                                         534.158158     \n",
       "\n",
       "            ADDITION_NEURAL_NETWORK_c529eda5-cea3-4431-b707-ba66fc1f2e8a_5  \\\n",
       "Date                                                                         \n",
       "2016-01-04                                         539.158172                \n",
       "2016-01-05                                         539.158161                \n",
       "2016-01-06                                         539.158161                \n",
       "2016-01-07                                         539.158166                \n",
       "2016-01-08                                         539.158158                \n",
       "\n",
       "            SUBTRACTION_NEURAL_NETWORK_c529eda5-cea3-4431-b707-ba66fc1f2e8a_5  \n",
       "Date                                                                           \n",
       "2016-01-04                                         529.158172                  \n",
       "2016-01-05                                         529.158161                  \n",
       "2016-01-06                                         529.158161                  \n",
       "2016-01-07                                         529.158166                  \n",
       "2016-01-08                                         529.158158                  "
      ]
     },
     "execution_count": 23,
     "metadata": {},
     "output_type": "execute_result"
    }
   ],
   "source": [
    "test_dataset.data_frame.head()"
   ]
  },
  {
   "cell_type": "code",
   "execution_count": 24,
   "metadata": {
    "collapsed": true
   },
   "outputs": [],
   "source": [
    "enter_crit_long = criteria.Below(symbol.close, threshold_below.value)"
   ]
  },
  {
   "cell_type": "code",
   "execution_count": 25,
   "metadata": {
    "collapsed": true
   },
   "outputs": [],
   "source": [
    "enter_crit_short = criteria.Above(symbol.close, threshold_above.value)"
   ]
  },
  {
   "cell_type": "code",
   "execution_count": 26,
   "metadata": {
    "collapsed": true
   },
   "outputs": [],
   "source": [
    "exit_crit_long = criteria.BarsSinceLong(symbol, 1)\n",
    "exit_crit_short = criteria.BarsSinceShort(symbol, 1)"
   ]
  },
  {
   "cell_type": "code",
   "execution_count": 27,
   "metadata": {
    "collapsed": true
   },
   "outputs": [],
   "source": [
    "enter_crit_group1 = criteria_group.CriteriaGroup([enter_crit_long], Long(), symbol)\n",
    "enter_crit_group2 = criteria_group.CriteriaGroup([enter_crit_short], Short(), symbol)\n",
    "exit_crit_group1 = criteria_group.CriteriaGroup([exit_crit_long], LongExit(), symbol)\n",
    "exit_crit_group2 = criteria_group.CriteriaGroup([exit_crit_short], ShortExit(), symbol)"
   ]
  },
  {
   "cell_type": "code",
   "execution_count": 28,
   "metadata": {
    "collapsed": true
   },
   "outputs": [],
   "source": [
    "tp = trading_profile.TradingProfile(100000, trading_amount.StaticAmount(10000), trading_fee.StaticFee(5))"
   ]
  },
  {
   "cell_type": "code",
   "execution_count": 29,
   "metadata": {},
   "outputs": [
    {
     "data": {
      "text/html": [
       "<div>\n",
       "<style>\n",
       "    .dataframe thead tr:only-child th {\n",
       "        text-align: right;\n",
       "    }\n",
       "\n",
       "    .dataframe thead th {\n",
       "        text-align: left;\n",
       "    }\n",
       "\n",
       "    .dataframe tbody tr th {\n",
       "        vertical-align: top;\n",
       "    }\n",
       "</style>\n",
       "<table border=\"1\" class=\"dataframe\">\n",
       "  <thead>\n",
       "    <tr style=\"text-align: right;\">\n",
       "      <th></th>\n",
       "      <th>GOOGL_Close</th>\n",
       "      <th>GOOGL_High</th>\n",
       "      <th>GOOGL_Low</th>\n",
       "      <th>GOOGL_Open</th>\n",
       "      <th>GOOGL_Volume</th>\n",
       "      <th>NEURAL_NETWORK_c529eda5-cea3-4431-b707-ba66fc1f2e8a</th>\n",
       "      <th>ADDITION_NEURAL_NETWORK_c529eda5-cea3-4431-b707-ba66fc1f2e8a_5</th>\n",
       "      <th>SUBTRACTION_NEURAL_NETWORK_c529eda5-cea3-4431-b707-ba66fc1f2e8a_5</th>\n",
       "    </tr>\n",
       "    <tr>\n",
       "      <th>Date</th>\n",
       "      <th></th>\n",
       "      <th></th>\n",
       "      <th></th>\n",
       "      <th></th>\n",
       "      <th></th>\n",
       "      <th></th>\n",
       "      <th></th>\n",
       "      <th></th>\n",
       "    </tr>\n",
       "  </thead>\n",
       "  <tbody>\n",
       "    <tr>\n",
       "      <th>2017-04-07</th>\n",
       "      <td>842.10</td>\n",
       "      <td>845.88</td>\n",
       "      <td>837.30</td>\n",
       "      <td>845.00</td>\n",
       "      <td>1111610.0</td>\n",
       "      <td>534.158153</td>\n",
       "      <td>539.158153</td>\n",
       "      <td>529.158153</td>\n",
       "    </tr>\n",
       "    <tr>\n",
       "      <th>2017-04-10</th>\n",
       "      <td>841.70</td>\n",
       "      <td>846.74</td>\n",
       "      <td>840.79</td>\n",
       "      <td>841.54</td>\n",
       "      <td>1046215.0</td>\n",
       "      <td>534.158150</td>\n",
       "      <td>539.158150</td>\n",
       "      <td>529.158150</td>\n",
       "    </tr>\n",
       "    <tr>\n",
       "      <th>2017-04-11</th>\n",
       "      <td>839.88</td>\n",
       "      <td>844.63</td>\n",
       "      <td>834.60</td>\n",
       "      <td>841.70</td>\n",
       "      <td>974343.0</td>\n",
       "      <td>534.158148</td>\n",
       "      <td>539.158148</td>\n",
       "      <td>529.158148</td>\n",
       "    </tr>\n",
       "    <tr>\n",
       "      <th>2017-04-12</th>\n",
       "      <td>841.46</td>\n",
       "      <td>843.72</td>\n",
       "      <td>837.59</td>\n",
       "      <td>838.46</td>\n",
       "      <td>1135775.0</td>\n",
       "      <td>534.158152</td>\n",
       "      <td>539.158152</td>\n",
       "      <td>529.158152</td>\n",
       "    </tr>\n",
       "    <tr>\n",
       "      <th>2017-04-13</th>\n",
       "      <td>840.18</td>\n",
       "      <td>843.73</td>\n",
       "      <td>837.85</td>\n",
       "      <td>841.04</td>\n",
       "      <td>1073650.0</td>\n",
       "      <td>534.158151</td>\n",
       "      <td>539.158151</td>\n",
       "      <td>529.158151</td>\n",
       "    </tr>\n",
       "  </tbody>\n",
       "</table>\n",
       "</div>"
      ],
      "text/plain": [
       "            GOOGL_Close  GOOGL_High  GOOGL_Low  GOOGL_Open  GOOGL_Volume  \\\n",
       "Date                                                                       \n",
       "2017-04-07       842.10      845.88     837.30      845.00     1111610.0   \n",
       "2017-04-10       841.70      846.74     840.79      841.54     1046215.0   \n",
       "2017-04-11       839.88      844.63     834.60      841.70      974343.0   \n",
       "2017-04-12       841.46      843.72     837.59      838.46     1135775.0   \n",
       "2017-04-13       840.18      843.73     837.85      841.04     1073650.0   \n",
       "\n",
       "            NEURAL_NETWORK_c529eda5-cea3-4431-b707-ba66fc1f2e8a  \\\n",
       "Date                                                              \n",
       "2017-04-07                                         534.158153     \n",
       "2017-04-10                                         534.158150     \n",
       "2017-04-11                                         534.158148     \n",
       "2017-04-12                                         534.158152     \n",
       "2017-04-13                                         534.158151     \n",
       "\n",
       "            ADDITION_NEURAL_NETWORK_c529eda5-cea3-4431-b707-ba66fc1f2e8a_5  \\\n",
       "Date                                                                         \n",
       "2017-04-07                                         539.158153                \n",
       "2017-04-10                                         539.158150                \n",
       "2017-04-11                                         539.158148                \n",
       "2017-04-12                                         539.158152                \n",
       "2017-04-13                                         539.158151                \n",
       "\n",
       "            SUBTRACTION_NEURAL_NETWORK_c529eda5-cea3-4431-b707-ba66fc1f2e8a_5  \n",
       "Date                                                                           \n",
       "2017-04-07                                         529.158153                  \n",
       "2017-04-10                                         529.158150                  \n",
       "2017-04-11                                         529.158148                  \n",
       "2017-04-12                                         529.158152                  \n",
       "2017-04-13                                         529.158151                  "
      ]
     },
     "execution_count": 29,
     "metadata": {},
     "output_type": "execute_result"
    }
   ],
   "source": [
    "test_dataset.data_frame.tail()"
   ]
  },
  {
   "cell_type": "code",
   "execution_count": 30,
   "metadata": {},
   "outputs": [
    {
     "name": "stderr",
     "output_type": "stream",
     "text": [
      "/anaconda/lib/python2.7/site-packages/matplotlib/font_manager.py:280: UserWarning: Matplotlib is building the font cache using fc-list. This may take a moment.\n",
      "  'Matplotlib is building the font cache using fc-list. '\n",
      "/anaconda/lib/python2.7/site-packages/matplotlib/cbook.py:136: MatplotlibDeprecationWarning: The finance module has been deprecated in mpl 2.0 and will be removed in mpl 2.2. Please use the module mpl_finance instead.\n",
      "  warnings.warn(message, mplDeprecation, stacklevel=1)\n"
     ]
    }
   ],
   "source": [
    "%matplotlib inline\n",
    "import matplotlib.pyplot as plt\n",
    "from nowtrade.figures import Figure"
   ]
  },
  {
   "cell_type": "code",
   "execution_count": 31,
   "metadata": {
    "collapsed": true
   },
   "outputs": [],
   "source": [
    "#test_dataset.data_frame.plot()"
   ]
  },
  {
   "cell_type": "code",
   "execution_count": 32,
   "metadata": {
    "collapsed": true
   },
   "outputs": [],
   "source": [
    "strat = strategy.Strategy(test_dataset, [enter_crit_group1, enter_crit_group2, exit_crit_group1, exit_crit_group2], tp)"
   ]
  },
  {
   "cell_type": "code",
   "execution_count": 33,
   "metadata": {
    "collapsed": true
   },
   "outputs": [],
   "source": [
    "strat.simulate()"
   ]
  },
  {
   "cell_type": "code",
   "execution_count": 34,
   "metadata": {},
   "outputs": [
    {
     "name": "stdout",
     "output_type": "stream",
     "text": [
      "<bound method Report.overview of <nowtrade.report.Report object at 0x7f8291071f90>>\n"
     ]
    }
   ],
   "source": [
    "print strat.report.overview"
   ]
  },
  {
   "cell_type": "code",
   "execution_count": 35,
   "metadata": {
    "collapsed": true
   },
   "outputs": [],
   "source": [
    "#fig = Figure(test_dataset, rows=4)"
   ]
  },
  {
   "cell_type": "code",
   "execution_count": 36,
   "metadata": {
    "collapsed": true
   },
   "outputs": [],
   "source": [
    "#fig.add_chart('Date', 1) # First chart holds the googl candlesticks\n",
    "#fig.add_chart('GOOGL_Volume', 2, 'bar') # Second chart holds the volume\n",
    "#fig.add_chart('NEURAL_NETWORK_e6b1f791-8c5c-4d7a-9f34-4e7c1aaa6f8a', 3) # Third chart holds the simple moving averages\n",
    "#fig.add_chart('ADDITION_NEURAL_NETWORK_e6b1f791-8c5c-4d7a-9f34-4e7c1aaa6f8a_5', 4, color='red') # SMA25 will have a red line\n",
    "#fig.add_capital_chart(4) # Show the capital history on the last chart"
   ]
  },
  {
   "cell_type": "code",
   "execution_count": 37,
   "metadata": {
    "collapsed": true
   },
   "outputs": [],
   "source": [
    "#fig.show()"
   ]
  },
  {
   "cell_type": "code",
   "execution_count": 38,
   "metadata": {
    "collapsed": true
   },
   "outputs": [],
   "source": [
    "import matplotlib\n",
    "matplotlib.style.use('ggplot')"
   ]
  },
  {
   "cell_type": "code",
   "execution_count": 39,
   "metadata": {
    "collapsed": true
   },
   "outputs": [],
   "source": [
    "#test_dataset.data_frame['Date']\n",
    "n_net='NEURAL_NETWORK_'+neural_network.name"
   ]
  },
  {
   "cell_type": "code",
   "execution_count": 40,
   "metadata": {
    "collapsed": true
   },
   "outputs": [],
   "source": [
    "#plt.figure();\n",
    "z=test_dataset.data_frame.loc[:,['GOOGL_Volume','GOOGL_Close',n_net]]\n"
   ]
  },
  {
   "cell_type": "code",
   "execution_count": 41,
   "metadata": {
    "collapsed": true
   },
   "outputs": [],
   "source": [
    "from sklearn import preprocessing\n",
    "from sklearn.preprocessing import MinMaxScaler\n",
    "import numpy as np"
   ]
  },
  {
   "cell_type": "code",
   "execution_count": 42,
   "metadata": {
    "collapsed": true
   },
   "outputs": [],
   "source": [
    "mms=MinMaxScaler()"
   ]
  },
  {
   "cell_type": "code",
   "execution_count": 43,
   "metadata": {},
   "outputs": [
    {
     "name": "stderr",
     "output_type": "stream",
     "text": [
      "/anaconda/lib/python2.7/site-packages/sklearn/preprocessing/data.py:321: DeprecationWarning: Passing 1d arrays as data is deprecated in 0.17 and will raise ValueError in 0.19. Reshape your data either using X.reshape(-1, 1) if your data has a single feature or X.reshape(1, -1) if it contains a single sample.\n",
      "  warnings.warn(DEPRECATION_MSG_1D, DeprecationWarning)\n",
      "/anaconda/lib/python2.7/site-packages/sklearn/preprocessing/data.py:356: DeprecationWarning: Passing 1d arrays as data is deprecated in 0.17 and will raise ValueError in 0.19. Reshape your data either using X.reshape(-1, 1) if your data has a single feature or X.reshape(1, -1) if it contains a single sample.\n",
      "  warnings.warn(DEPRECATION_MSG_1D, DeprecationWarning)\n"
     ]
    }
   ],
   "source": [
    "G_Close_min_max=mms.fit_transform(z['GOOGL_Close'])"
   ]
  },
  {
   "cell_type": "code",
   "execution_count": 44,
   "metadata": {},
   "outputs": [
    {
     "name": "stderr",
     "output_type": "stream",
     "text": [
      "/anaconda/lib/python2.7/site-packages/sklearn/preprocessing/data.py:321: DeprecationWarning: Passing 1d arrays as data is deprecated in 0.17 and will raise ValueError in 0.19. Reshape your data either using X.reshape(-1, 1) if your data has a single feature or X.reshape(1, -1) if it contains a single sample.\n",
      "  warnings.warn(DEPRECATION_MSG_1D, DeprecationWarning)\n",
      "/anaconda/lib/python2.7/site-packages/sklearn/preprocessing/data.py:356: DeprecationWarning: Passing 1d arrays as data is deprecated in 0.17 and will raise ValueError in 0.19. Reshape your data either using X.reshape(-1, 1) if your data has a single feature or X.reshape(1, -1) if it contains a single sample.\n",
      "  warnings.warn(DEPRECATION_MSG_1D, DeprecationWarning)\n"
     ]
    }
   ],
   "source": [
    "NN_Close_predict=mms.fit_transform(test_dataset.data_frame[n_net])"
   ]
  },
  {
   "cell_type": "code",
   "execution_count": 45,
   "metadata": {
    "collapsed": true
   },
   "outputs": [],
   "source": [
    "import pandas as pd"
   ]
  },
  {
   "cell_type": "code",
   "execution_count": 46,
   "metadata": {
    "collapsed": true
   },
   "outputs": [],
   "source": [
    "z['NN_Predict']=test_dataset.data_frame[n_net]"
   ]
  },
  {
   "cell_type": "code",
   "execution_count": 47,
   "metadata": {
    "collapsed": true
   },
   "outputs": [],
   "source": [
    "z=z.drop(n_net,1)"
   ]
  },
  {
   "cell_type": "code",
   "execution_count": 48,
   "metadata": {
    "collapsed": true
   },
   "outputs": [],
   "source": [
    "#z=z.drop('Date',1)"
   ]
  },
  {
   "cell_type": "code",
   "execution_count": 49,
   "metadata": {
    "collapsed": true
   },
   "outputs": [],
   "source": [
    "zz=pd.DataFrame(mms.fit_transform(z))"
   ]
  },
  {
   "cell_type": "code",
   "execution_count": 50,
   "metadata": {
    "collapsed": true
   },
   "outputs": [],
   "source": [
    "zz.columns=z.columns"
   ]
  },
  {
   "cell_type": "code",
   "execution_count": 51,
   "metadata": {
    "collapsed": true
   },
   "outputs": [],
   "source": [
    "zz=zz.set_index(z.index)"
   ]
  },
  {
   "cell_type": "code",
   "execution_count": 52,
   "metadata": {},
   "outputs": [
    {
     "data": {
      "text/html": [
       "<div>\n",
       "<style>\n",
       "    .dataframe thead tr:only-child th {\n",
       "        text-align: right;\n",
       "    }\n",
       "\n",
       "    .dataframe thead th {\n",
       "        text-align: left;\n",
       "    }\n",
       "\n",
       "    .dataframe tbody tr th {\n",
       "        vertical-align: top;\n",
       "    }\n",
       "</style>\n",
       "<table border=\"1\" class=\"dataframe\">\n",
       "  <thead>\n",
       "    <tr style=\"text-align: right;\">\n",
       "      <th></th>\n",
       "      <th>GOOGL_Volume</th>\n",
       "      <th>GOOGL_Close</th>\n",
       "      <th>NN_Predict</th>\n",
       "    </tr>\n",
       "    <tr>\n",
       "      <th>Date</th>\n",
       "      <th></th>\n",
       "      <th></th>\n",
       "      <th></th>\n",
       "    </tr>\n",
       "  </thead>\n",
       "  <tbody>\n",
       "    <tr>\n",
       "      <th>2016-01-04</th>\n",
       "      <td>0.430382</td>\n",
       "      <td>0.409455</td>\n",
       "      <td>0.745616</td>\n",
       "    </tr>\n",
       "    <tr>\n",
       "      <th>2016-01-05</th>\n",
       "      <td>0.258799</td>\n",
       "      <td>0.420384</td>\n",
       "      <td>0.588751</td>\n",
       "    </tr>\n",
       "    <tr>\n",
       "      <th>2016-01-06</th>\n",
       "      <td>0.282288</td>\n",
       "      <td>0.408879</td>\n",
       "      <td>0.598094</td>\n",
       "    </tr>\n",
       "    <tr>\n",
       "      <th>2016-01-07</th>\n",
       "      <td>0.399534</td>\n",
       "      <td>0.313026</td>\n",
       "      <td>0.673297</td>\n",
       "    </tr>\n",
       "    <tr>\n",
       "      <th>2016-01-08</th>\n",
       "      <td>0.276797</td>\n",
       "      <td>0.260263</td>\n",
       "      <td>0.548174</td>\n",
       "    </tr>\n",
       "  </tbody>\n",
       "</table>\n",
       "</div>"
      ],
      "text/plain": [
       "            GOOGL_Volume  GOOGL_Close  NN_Predict\n",
       "Date                                             \n",
       "2016-01-04      0.430382     0.409455    0.745616\n",
       "2016-01-05      0.258799     0.420384    0.588751\n",
       "2016-01-06      0.282288     0.408879    0.598094\n",
       "2016-01-07      0.399534     0.313026    0.673297\n",
       "2016-01-08      0.276797     0.260263    0.548174"
      ]
     },
     "execution_count": 52,
     "metadata": {},
     "output_type": "execute_result"
    }
   ],
   "source": [
    "zz.head()"
   ]
  },
  {
   "cell_type": "code",
   "execution_count": 53,
   "metadata": {},
   "outputs": [
    {
     "data": {
      "text/plain": [
       "<matplotlib.axes._subplots.AxesSubplot at 0x7f82900ec810>"
      ]
     },
     "execution_count": 53,
     "metadata": {},
     "output_type": "execute_result"
    },
    {
     "data": {
      "image/png": "[encoded data removed]",
      "text/plain": [
       "<matplotlib.figure.Figure at 0x7f82900ec350>"
      ]
     },
     "metadata": {},
     "output_type": "display_data"
    }
   ],
   "source": [
    "#df = df.rename(columns={'oldName1': 'newName1', 'oldName2': 'newName2'}\n",
    "zz[['GOOGL_Close','NN_Predict']].plot()"
   ]
  },
  {
   "cell_type": "code",
   "execution_count": 54,
   "metadata": {},
   "outputs": [
    {
     "data": {
      "text/html": [
       "<div>\n",
       "<style>\n",
       "    .dataframe thead tr:only-child th {\n",
       "        text-align: right;\n",
       "    }\n",
       "\n",
       "    .dataframe thead th {\n",
       "        text-align: left;\n",
       "    }\n",
       "\n",
       "    .dataframe tbody tr th {\n",
       "        vertical-align: top;\n",
       "    }\n",
       "</style>\n",
       "<table border=\"1\" class=\"dataframe\">\n",
       "  <thead>\n",
       "    <tr style=\"text-align: right;\">\n",
       "      <th></th>\n",
       "      <th>GOOGL_Volume</th>\n",
       "      <th>GOOGL_Close</th>\n",
       "      <th>NN_Predict</th>\n",
       "    </tr>\n",
       "    <tr>\n",
       "      <th>Date</th>\n",
       "      <th></th>\n",
       "      <th></th>\n",
       "      <th></th>\n",
       "    </tr>\n",
       "  </thead>\n",
       "  <tbody>\n",
       "    <tr>\n",
       "      <th>2016-01-04</th>\n",
       "      <td>0.430382</td>\n",
       "      <td>0.409455</td>\n",
       "      <td>0.745616</td>\n",
       "    </tr>\n",
       "    <tr>\n",
       "      <th>2016-01-05</th>\n",
       "      <td>0.258799</td>\n",
       "      <td>0.420384</td>\n",
       "      <td>0.588751</td>\n",
       "    </tr>\n",
       "    <tr>\n",
       "      <th>2016-01-06</th>\n",
       "      <td>0.282288</td>\n",
       "      <td>0.408879</td>\n",
       "      <td>0.598094</td>\n",
       "    </tr>\n",
       "    <tr>\n",
       "      <th>2016-01-07</th>\n",
       "      <td>0.399534</td>\n",
       "      <td>0.313026</td>\n",
       "      <td>0.673297</td>\n",
       "    </tr>\n",
       "    <tr>\n",
       "      <th>2016-01-08</th>\n",
       "      <td>0.276797</td>\n",
       "      <td>0.260263</td>\n",
       "      <td>0.548174</td>\n",
       "    </tr>\n",
       "  </tbody>\n",
       "</table>\n",
       "</div>"
      ],
      "text/plain": [
       "            GOOGL_Volume  GOOGL_Close  NN_Predict\n",
       "Date                                             \n",
       "2016-01-04      0.430382     0.409455    0.745616\n",
       "2016-01-05      0.258799     0.420384    0.588751\n",
       "2016-01-06      0.282288     0.408879    0.598094\n",
       "2016-01-07      0.399534     0.313026    0.673297\n",
       "2016-01-08      0.276797     0.260263    0.548174"
      ]
     },
     "execution_count": 54,
     "metadata": {},
     "output_type": "execute_result"
    }
   ],
   "source": [
    "zz.head()"
   ]
  },
  {
   "cell_type": "code",
   "execution_count": 55,
   "metadata": {},
   "outputs": [
    {
     "name": "stdout",
     "output_type": "stream",
     "text": [
      "Trades:\n",
      "GOOGL\n",
      "Trade(datetime=2016-01-05 00:00:00, action=SHORT, symbol=GOOGL, price=764.1, shares=13.0, money=9933.3, fee=5, slippage=0.0)\n",
      "Trade(datetime=2016-01-07 00:00:00, action=SHORT_EXIT, symbol=GOOGL, price=746.49, shares=13.0, money=9704.37, fee=5, slippage=0.0)\n",
      "Trade(datetime=2016-01-08 00:00:00, action=SHORT, symbol=GOOGL, price=747.8, shares=13.0, money=9721.4, fee=5, slippage=0.0)\n",
      "Trade(datetime=2016-01-12 00:00:00, action=SHORT_EXIT, symbol=GOOGL, price=740.75, shares=13.0, money=9629.75, fee=5, slippage=0.0)\n",
      "Trade(datetime=2016-01-13 00:00:00, action=SHORT, symbol=GOOGL, price=749.34, shares=13.0, money=9741.42, fee=5, slippage=0.0)\n",
      "Trade(datetime=2016-01-15 00:00:00, action=SHORT_EXIT, symbol=GOOGL, price=709.99, shares=13.0, money=9229.87, fee=5, slippage=0.0)\n",
      "Trade(datetime=2016-01-19 00:00:00, action=SHORT, symbol=GOOGL, price=720.15, shares=14.0, money=10082.1, fee=5, slippage=0.0)\n",
      "Trade(datetime=2016-01-21 00:00:00, action=SHORT_EXIT, symbol=GOOGL, price=720.17, shares=14.0, money=10082.38, fee=5, slippage=0.0)\n",
      "Trade(datetime=2016-01-22 00:00:00, action=SHORT, symbol=GOOGL, price=742.0, shares=13.0, money=9646.0, fee=5, slippage=0.0)\n",
      "Trade(datetime=2016-01-26 00:00:00, action=SHORT_EXIT, symbol=GOOGL, price=735.21, shares=13.0, money=9557.73, fee=5, slippage=0.0)\n",
      "Trade(datetime=2016-01-27 00:00:00, action=SHORT, symbol=GOOGL, price=735.89, shares=14.0, money=10302.46, fee=5, slippage=0.0)\n",
      "Trade(datetime=2016-01-29 00:00:00, action=SHORT_EXIT, symbol=GOOGL, price=748.96, shares=14.0, money=10485.44, fee=5, slippage=0.0)\n",
      "Trade(datetime=2016-02-01 00:00:00, action=SHORT, symbol=GOOGL, price=771.26, shares=13.0, money=10026.38, fee=5, slippage=0.0)\n",
      "Trade(datetime=2016-02-03 00:00:00, action=SHORT_EXIT, symbol=GOOGL, price=786.28, shares=13.0, money=10221.64, fee=5, slippage=0.0)\n",
      "Trade(datetime=2016-02-04 00:00:00, action=SHORT, symbol=GOOGL, price=744.59, shares=13.0, money=9679.67, fee=5, slippage=0.0)\n",
      "Trade(datetime=2016-02-08 00:00:00, action=SHORT_EXIT, symbol=GOOGL, price=687.68, shares=13.0, money=8939.84, fee=5, slippage=0.0)\n",
      "Trade(datetime=2016-02-09 00:00:00, action=SHORT, symbol=GOOGL, price=692.95, shares=14.0, money=9701.3, fee=5, slippage=0.0)\n",
      "Trade(datetime=2016-02-11 00:00:00, action=SHORT_EXIT, symbol=GOOGL, price=696.34, shares=14.0, money=9748.76, fee=5, slippage=0.0)\n",
      "Trade(datetime=2016-02-12 00:00:00, action=SHORT, symbol=GOOGL, price=712.21, shares=14.0, money=9970.94, fee=5, slippage=0.0)\n",
      "Trade(datetime=2016-02-17 00:00:00, action=SHORT_EXIT, symbol=GOOGL, price=727.0, shares=14.0, money=10178.0, fee=5, slippage=0.0)\n",
      "Trade(datetime=2016-02-18 00:00:00, action=SHORT, symbol=GOOGL, price=733.96, shares=14.0, money=10275.44, fee=5, slippage=0.0)\n",
      "Trade(datetime=2016-02-22 00:00:00, action=SHORT_EXIT, symbol=GOOGL, price=729.51, shares=14.0, money=10213.14, fee=5, slippage=0.0)\n",
      "Trade(datetime=2016-02-23 00:00:00, action=SHORT, symbol=GOOGL, price=726.1, shares=14.0, money=10165.4, fee=5, slippage=0.0)\n",
      "Trade(datetime=2016-02-25 00:00:00, action=SHORT_EXIT, symbol=GOOGL, price=722.93, shares=14.0, money=10121.02, fee=5, slippage=0.0)\n",
      "Trade(datetime=2016-02-26 00:00:00, action=SHORT, symbol=GOOGL, price=733.6, shares=14.0, money=10270.4, fee=5, slippage=0.0)\n",
      "Trade(datetime=2016-03-01 00:00:00, action=SHORT_EXIT, symbol=GOOGL, price=721.3, shares=14.0, money=10098.2, fee=5, slippage=0.0)\n",
      "Trade(datetime=2016-03-02 00:00:00, action=SHORT, symbol=GOOGL, price=742.87, shares=13.0, money=9657.31, fee=5, slippage=0.0)\n",
      "Trade(datetime=2016-03-04 00:00:00, action=SHORT_EXIT, symbol=GOOGL, price=734.8, shares=13.0, money=9552.4, fee=5, slippage=0.0)\n",
      "Trade(datetime=2016-03-07 00:00:00, action=SHORT, symbol=GOOGL, price=725.15, shares=14.0, money=10152.1, fee=5, slippage=0.0)\n",
      "Trade(datetime=2016-03-09 00:00:00, action=SHORT_EXIT, symbol=GOOGL, price=715.16, shares=14.0, money=10012.24, fee=5, slippage=0.0)\n",
      "Trade(datetime=2016-03-10 00:00:00, action=SHORT, symbol=GOOGL, price=727.79, shares=14.0, money=10189.06, fee=5, slippage=0.0)\n",
      "Trade(datetime=2016-03-14 00:00:00, action=SHORT_EXIT, symbol=GOOGL, price=744.97, shares=14.0, money=10429.58, fee=5, slippage=0.0)\n",
      "Trade(datetime=2016-03-15 00:00:00, action=SHORT, symbol=GOOGL, price=746.02, shares=13.0, money=9698.26, fee=5, slippage=0.0)\n",
      "Trade(datetime=2016-03-17 00:00:00, action=SHORT_EXIT, symbol=GOOGL, price=757.65, shares=13.0, money=9849.45, fee=5, slippage=0.0)\n",
      "Trade(datetime=2016-03-18 00:00:00, action=SHORT, symbol=GOOGL, price=761.63, shares=13.0, money=9901.19, fee=5, slippage=0.0)\n",
      "Trade(datetime=2016-03-22 00:00:00, action=SHORT_EXIT, symbol=GOOGL, price=758.44, shares=13.0, money=9859.72, fee=5, slippage=0.0)\n",
      "Trade(datetime=2016-03-23 00:00:00, action=SHORT, symbol=GOOGL, price=763.35, shares=13.0, money=9923.55, fee=5, slippage=0.0)\n",
      "Trade(datetime=2016-03-28 00:00:00, action=SHORT_EXIT, symbol=GOOGL, price=756.17, shares=13.0, money=9830.21, fee=5, slippage=0.0)\n",
      "Trade(datetime=2016-03-29 00:00:00, action=SHORT, symbol=GOOGL, price=753.68, shares=13.0, money=9797.84, fee=5, slippage=0.0)\n",
      "Trade(datetime=2016-03-31 00:00:00, action=SHORT_EXIT, symbol=GOOGL, price=768.34, shares=13.0, money=9988.42, fee=5, slippage=0.0)\n",
      "Trade(datetime=2016-04-01 00:00:00, action=SHORT, symbol=GOOGL, price=757.16, shares=13.0, money=9843.08, fee=5, slippage=0.0)\n",
      "Trade(datetime=2016-04-05 00:00:00, action=SHORT_EXIT, symbol=GOOGL, price=758.13, shares=13.0, money=9855.69, fee=5, slippage=0.0)\n",
      "Trade(datetime=2016-04-06 00:00:00, action=SHORT, symbol=GOOGL, price=757.84, shares=13.0, money=9851.92, fee=5, slippage=0.0)\n",
      "Trade(datetime=2016-04-08 00:00:00, action=SHORT_EXIT, symbol=GOOGL, price=765.87, shares=13.0, money=9956.31, fee=5, slippage=0.0)\n",
      "Trade(datetime=2016-04-11 00:00:00, action=SHORT, symbol=GOOGL, price=765.45, shares=13.0, money=9950.85, fee=5, slippage=0.0)\n",
      "Trade(datetime=2016-04-13 00:00:00, action=SHORT_EXIT, symbol=GOOGL, price=770.31, shares=13.0, money=10014.03, fee=5, slippage=0.0)\n",
      "Trade(datetime=2016-04-14 00:00:00, action=SHORT, symbol=GOOGL, price=775.36, shares=13.0, money=10079.68, fee=5, slippage=0.0)\n",
      "Trade(datetime=2016-04-18 00:00:00, action=SHORT_EXIT, symbol=GOOGL, price=780.19, shares=13.0, money=10142.47, fee=5, slippage=0.0)\n",
      "Trade(datetime=2016-04-19 00:00:00, action=SHORT, symbol=GOOGL, price=790.5, shares=13.0, money=10276.5, fee=5, slippage=0.0)\n",
      "Trade(datetime=2016-04-21 00:00:00, action=SHORT_EXIT, symbol=GOOGL, price=777.31, shares=13.0, money=10105.03, fee=5, slippage=0.0)\n",
      "Trade(datetime=2016-04-22 00:00:00, action=SHORT, symbol=GOOGL, price=743.91, shares=13.0, money=9670.83, fee=5, slippage=0.0)\n",
      "Trade(datetime=2016-04-26 00:00:00, action=SHORT_EXIT, symbol=GOOGL, price=744.42, shares=13.0, money=9677.46, fee=5, slippage=0.0)\n",
      "Trade(datetime=2016-04-27 00:00:00, action=SHORT, symbol=GOOGL, price=725.32, shares=14.0, money=10154.48, fee=5, slippage=0.0)\n",
      "Trade(datetime=2016-04-29 00:00:00, action=SHORT_EXIT, symbol=GOOGL, price=704.12, shares=14.0, money=9857.68, fee=5, slippage=0.0)\n",
      "Trade(datetime=2016-05-02 00:00:00, action=SHORT, symbol=GOOGL, price=711.92, shares=14.0, money=9966.88, fee=5, slippage=0.0)\n",
      "Trade(datetime=2016-05-04 00:00:00, action=SHORT_EXIT, symbol=GOOGL, price=706.77, shares=14.0, money=9894.78, fee=5, slippage=0.0)\n",
      "Trade(datetime=2016-05-05 00:00:00, action=SHORT, symbol=GOOGL, price=715.0, shares=14.0, money=10010.0, fee=5, slippage=0.0)\n",
      "Trade(datetime=2016-05-09 00:00:00, action=SHORT_EXIT, symbol=GOOGL, price=726.7, shares=14.0, money=10173.8, fee=5, slippage=0.0)\n",
      "Trade(datetime=2016-05-10 00:00:00, action=SHORT, symbol=GOOGL, price=734.96, shares=14.0, money=10289.44, fee=5, slippage=0.0)\n",
      "Trade(datetime=2016-05-12 00:00:00, action=SHORT_EXIT, symbol=GOOGL, price=732.0, shares=14.0, money=10248.0, fee=5, slippage=0.0)\n",
      "Trade(datetime=2016-05-13 00:00:00, action=SHORT, symbol=GOOGL, price=726.62, shares=14.0, money=10172.68, fee=5, slippage=0.0)\n",
      "Trade(datetime=2016-05-17 00:00:00, action=SHORT_EXIT, symbol=GOOGL, price=731.06, shares=14.0, money=10234.84, fee=5, slippage=0.0)\n",
      "Trade(datetime=2016-05-18 00:00:00, action=SHORT, symbol=GOOGL, price=718.5, shares=14.0, money=10059.0, fee=5, slippage=0.0)\n",
      "Trade(datetime=2016-05-20 00:00:00, action=SHORT_EXIT, symbol=GOOGL, price=716.46, shares=14.0, money=10030.44, fee=5, slippage=0.0)\n",
      "Trade(datetime=2016-05-23 00:00:00, action=SHORT, symbol=GOOGL, price=719.98, shares=14.0, money=10079.72, fee=5, slippage=0.0)\n",
      "Trade(datetime=2016-05-25 00:00:00, action=SHORT_EXIT, symbol=GOOGL, price=735.0, shares=14.0, money=10290.0, fee=5, slippage=0.0)\n",
      "Trade(datetime=2016-05-26 00:00:00, action=SHORT, symbol=GOOGL, price=736.0, shares=14.0, money=10304.0, fee=5, slippage=0.0)\n",
      "Trade(datetime=2016-05-31 00:00:00, action=SHORT_EXIT, symbol=GOOGL, price=748.76, shares=14.0, money=10482.64, fee=5, slippage=0.0)\n",
      "Trade(datetime=2016-06-01 00:00:00, action=SHORT, symbol=GOOGL, price=748.47, shares=13.0, money=9730.11, fee=5, slippage=0.0)\n",
      "Trade(datetime=2016-06-03 00:00:00, action=SHORT_EXIT, symbol=GOOGL, price=741.49, shares=13.0, money=9639.37, fee=5, slippage=0.0)\n",
      "Trade(datetime=2016-06-06 00:00:00, action=SHORT, symbol=GOOGL, price=738.5, shares=14.0, money=10339.0, fee=5, slippage=0.0)\n",
      "Trade(datetime=2016-06-08 00:00:00, action=SHORT_EXIT, symbol=GOOGL, price=739.5, shares=14.0, money=10353.0, fee=5, slippage=0.0)\n",
      "Trade(datetime=2016-06-09 00:00:00, action=SHORT, symbol=GOOGL, price=737.07, shares=14.0, money=10318.98, fee=5, slippage=0.0)\n",
      "Trade(datetime=2016-06-13 00:00:00, action=SHORT_EXIT, symbol=GOOGL, price=729.82, shares=14.0, money=10217.48, fee=5, slippage=0.0)\n",
      "Trade(datetime=2016-06-14 00:00:00, action=SHORT, symbol=GOOGL, price=729.31, shares=14.0, money=10210.34, fee=5, slippage=0.0)\n",
      "Trade(datetime=2016-06-16 00:00:00, action=SHORT_EXIT, symbol=GOOGL, price=727.96, shares=14.0, money=10191.44, fee=5, slippage=0.0)\n",
      "Trade(datetime=2016-06-17 00:00:00, action=SHORT, symbol=GOOGL, price=721.39, shares=14.0, money=10099.46, fee=5, slippage=0.0)\n",
      "Trade(datetime=2016-06-21 00:00:00, action=SHORT_EXIT, symbol=GOOGL, price=710.05, shares=14.0, money=9940.7, fee=5, slippage=0.0)\n",
      "Trade(datetime=2016-06-22 00:00:00, action=SHORT, symbol=GOOGL, price=714.05, shares=14.0, money=9996.7, fee=5, slippage=0.0)\n",
      "Trade(datetime=2016-06-24 00:00:00, action=SHORT_EXIT, symbol=GOOGL, price=690.17, shares=14.0, money=9662.38, fee=5, slippage=0.0)\n",
      "Trade(datetime=2016-06-27 00:00:00, action=SHORT, symbol=GOOGL, price=682.49, shares=15.0, money=10237.35, fee=5, slippage=0.0)\n",
      "Trade(datetime=2016-06-29 00:00:00, action=SHORT_EXIT, symbol=GOOGL, price=694.26, shares=15.0, money=10413.9, fee=5, slippage=0.0)\n",
      "Trade(datetime=2016-06-30 00:00:00, action=SHORT, symbol=GOOGL, price=697.65, shares=14.0, money=9767.1, fee=5, slippage=0.0)\n",
      "Trade(datetime=2016-07-05 00:00:00, action=SHORT_EXIT, symbol=GOOGL, price=705.01, shares=14.0, money=9870.14, fee=5, slippage=0.0)\n",
      "Trade(datetime=2016-07-06 00:00:00, action=SHORT, symbol=GOOGL, price=699.84, shares=14.0, money=9797.76, fee=5, slippage=0.0)\n",
      "Trade(datetime=2016-07-08 00:00:00, action=SHORT_EXIT, symbol=GOOGL, price=710.56, shares=14.0, money=9947.84, fee=5, slippage=0.0)\n",
      "Trade(datetime=2016-07-11 00:00:00, action=SHORT, symbol=GOOGL, price=719.42, shares=14.0, money=10071.88, fee=5, slippage=0.0)\n",
      "Trade(datetime=2016-07-13 00:00:00, action=SHORT_EXIT, symbol=GOOGL, price=735.52, shares=14.0, money=10297.28, fee=5, slippage=0.0)\n",
      "Trade(datetime=2016-07-14 00:00:00, action=SHORT, symbol=GOOGL, price=733.94, shares=14.0, money=10275.16, fee=5, slippage=0.0)\n",
      "Trade(datetime=2016-07-18 00:00:00, action=SHORT_EXIT, symbol=GOOGL, price=737.91, shares=14.0, money=10330.74, fee=5, slippage=0.0)\n",
      "Trade(datetime=2016-07-19 00:00:00, action=SHORT, symbol=GOOGL, price=749.87, shares=13.0, money=9748.31, fee=5, slippage=0.0)\n",
      "Trade(datetime=2016-07-21 00:00:00, action=SHORT_EXIT, symbol=GOOGL, price=757.0, shares=13.0, money=9841.0, fee=5, slippage=0.0)\n",
      "Trade(datetime=2016-07-22 00:00:00, action=SHORT, symbol=GOOGL, price=757.32, shares=13.0, money=9845.16, fee=5, slippage=0.0)\n",
      "Trade(datetime=2016-07-26 00:00:00, action=SHORT_EXIT, symbol=GOOGL, price=757.52, shares=13.0, money=9847.76, fee=5, slippage=0.0)\n",
      "Trade(datetime=2016-07-27 00:00:00, action=SHORT, symbol=GOOGL, price=758.97, shares=13.0, money=9866.61, fee=5, slippage=0.0)\n",
      "Trade(datetime=2016-07-29 00:00:00, action=SHORT_EXIT, symbol=GOOGL, price=797.71, shares=13.0, money=10370.23, fee=5, slippage=0.0)\n",
      "Trade(datetime=2016-08-01 00:00:00, action=SHORT, symbol=GOOGL, price=786.67, shares=13.0, money=10226.71, fee=5, slippage=0.0)\n",
      "Trade(datetime=2016-08-03 00:00:00, action=SHORT_EXIT, symbol=GOOGL, price=796.47, shares=13.0, money=10354.11, fee=5, slippage=0.0)\n",
      "Trade(datetime=2016-08-04 00:00:00, action=SHORT, symbol=GOOGL, price=798.24, shares=13.0, money=10377.12, fee=5, slippage=0.0)\n",
      "Trade(datetime=2016-08-08 00:00:00, action=SHORT_EXIT, symbol=GOOGL, price=806.0, shares=13.0, money=10478.0, fee=5, slippage=0.0)\n",
      "Trade(datetime=2016-08-09 00:00:00, action=SHORT, symbol=GOOGL, price=804.49, shares=12.0, money=9653.88, fee=5, slippage=0.0)\n",
      "Trade(datetime=2016-08-11 00:00:00, action=SHORT_EXIT, symbol=GOOGL, price=810.47, shares=12.0, money=9725.64, fee=5, slippage=0.0)\n",
      "Trade(datetime=2016-08-12 00:00:00, action=SHORT, symbol=GOOGL, price=805.09, shares=12.0, money=9661.08, fee=5, slippage=0.0)\n",
      "Trade(datetime=2016-08-16 00:00:00, action=SHORT_EXIT, symbol=GOOGL, price=803.5, shares=12.0, money=9642.0, fee=5, slippage=0.0)\n",
      "Trade(datetime=2016-08-17 00:00:00, action=SHORT, symbol=GOOGL, price=800.0, shares=13.0, money=10400.0, fee=5, slippage=0.0)\n",
      "Trade(datetime=2016-08-19 00:00:00, action=SHORT_EXIT, symbol=GOOGL, price=799.79, shares=13.0, money=10397.27, fee=5, slippage=0.0)\n",
      "Trade(datetime=2016-08-22 00:00:00, action=SHORT, symbol=GOOGL, price=798.51, shares=13.0, money=10380.63, fee=5, slippage=0.0)\n",
      "Trade(datetime=2016-08-24 00:00:00, action=SHORT_EXIT, symbol=GOOGL, price=796.86, shares=13.0, money=10359.18, fee=5, slippage=0.0)\n",
      "Trade(datetime=2016-08-25 00:00:00, action=SHORT, symbol=GOOGL, price=792.0, shares=13.0, money=10296.0, fee=5, slippage=0.0)\n",
      "Trade(datetime=2016-08-29 00:00:00, action=SHORT_EXIT, symbol=GOOGL, price=793.05, shares=13.0, money=10309.65, fee=5, slippage=0.0)\n",
      "Trade(datetime=2016-08-30 00:00:00, action=SHORT, symbol=GOOGL, price=792.88, shares=13.0, money=10307.44, fee=5, slippage=0.0)\n",
      "Trade(datetime=2016-09-01 00:00:00, action=SHORT_EXIT, symbol=GOOGL, price=791.98, shares=13.0, money=10295.74, fee=5, slippage=0.0)\n",
      "Trade(datetime=2016-09-02 00:00:00, action=SHORT, symbol=GOOGL, price=795.27, shares=13.0, money=10338.51, fee=5, slippage=0.0)\n",
      "Trade(datetime=2016-09-07 00:00:00, action=SHORT_EXIT, symbol=GOOGL, price=807.93, shares=13.0, money=10503.09, fee=5, slippage=0.0)\n",
      "Trade(datetime=2016-09-08 00:00:00, action=SHORT, symbol=GOOGL, price=805.22, shares=12.0, money=9662.64, fee=5, slippage=0.0)\n",
      "Trade(datetime=2016-09-12 00:00:00, action=SHORT_EXIT, symbol=GOOGL, price=784.52, shares=12.0, money=9414.24, fee=5, slippage=0.0)\n",
      "Trade(datetime=2016-09-13 00:00:00, action=SHORT, symbol=GOOGL, price=794.01, shares=13.0, money=10322.13, fee=5, slippage=0.0)\n",
      "Trade(datetime=2016-09-15 00:00:00, action=SHORT_EXIT, symbol=GOOGL, price=790.01, shares=13.0, money=10270.13, fee=5, slippage=0.0)\n",
      "Trade(datetime=2016-09-16 00:00:00, action=SHORT, symbol=GOOGL, price=799.02, shares=13.0, money=10387.26, fee=5, slippage=0.0)\n",
      "Trade(datetime=2016-09-20 00:00:00, action=SHORT_EXIT, symbol=GOOGL, price=800.0, shares=13.0, money=10400.0, fee=5, slippage=0.0)\n",
      "Trade(datetime=2016-09-21 00:00:00, action=SHORT, symbol=GOOGL, price=801.26, shares=12.0, money=9615.12, fee=5, slippage=0.0)\n",
      "Trade(datetime=2016-09-23 00:00:00, action=SHORT_EXIT, symbol=GOOGL, price=815.14, shares=12.0, money=9781.68, fee=5, slippage=0.0)\n",
      "Trade(datetime=2016-09-26 00:00:00, action=SHORT, symbol=GOOGL, price=809.82, shares=12.0, money=9717.84, fee=5, slippage=0.0)\n",
      "Trade(datetime=2016-09-28 00:00:00, action=SHORT_EXIT, symbol=GOOGL, price=804.08, shares=12.0, money=9648.96, fee=5, slippage=0.0)\n",
      "Trade(datetime=2016-09-29 00:00:00, action=SHORT, symbol=GOOGL, price=807.23, shares=12.0, money=9686.76, fee=5, slippage=0.0)\n",
      "Trade(datetime=2016-10-03 00:00:00, action=SHORT_EXIT, symbol=GOOGL, price=802.55, shares=12.0, money=9630.6, fee=5, slippage=0.0)\n",
      "Trade(datetime=2016-10-04 00:00:00, action=SHORT, symbol=GOOGL, price=805.0, shares=12.0, money=9660.0, fee=5, slippage=0.0)\n",
      "Trade(datetime=2016-10-06 00:00:00, action=SHORT_EXIT, symbol=GOOGL, price=804.08, shares=12.0, money=9648.96, fee=5, slippage=0.0)\n",
      "Trade(datetime=2016-10-07 00:00:00, action=SHORT, symbol=GOOGL, price=805.93, shares=12.0, money=9671.16, fee=5, slippage=0.0)\n",
      "Trade(datetime=2016-10-11 00:00:00, action=SHORT_EXIT, symbol=GOOGL, price=814.17, shares=12.0, money=9770.04, fee=5, slippage=0.0)\n",
      "Trade(datetime=2016-10-12 00:00:00, action=SHORT, symbol=GOOGL, price=811.96, shares=12.0, money=9743.52, fee=5, slippage=0.0)\n",
      "Trade(datetime=2016-10-14 00:00:00, action=SHORT_EXIT, symbol=GOOGL, price=807.45, shares=12.0, money=9689.4, fee=5, slippage=0.0)\n",
      "Trade(datetime=2016-10-17 00:00:00, action=SHORT, symbol=GOOGL, price=805.99, shares=12.0, money=9671.88, fee=5, slippage=0.0)\n",
      "Trade(datetime=2016-10-19 00:00:00, action=SHORT_EXIT, symbol=GOOGL, price=824.52, shares=12.0, money=9894.24, fee=5, slippage=0.0)\n",
      "Trade(datetime=2016-10-20 00:00:00, action=SHORT, symbol=GOOGL, price=827.56, shares=12.0, money=9930.72, fee=5, slippage=0.0)\n",
      "Trade(datetime=2016-10-24 00:00:00, action=SHORT_EXIT, symbol=GOOGL, price=830.09, shares=12.0, money=9961.08, fee=5, slippage=0.0)\n",
      "Trade(datetime=2016-10-25 00:00:00, action=SHORT, symbol=GOOGL, price=838.5, shares=12.0, money=10062.0, fee=5, slippage=0.0)\n",
      "Trade(datetime=2016-10-27 00:00:00, action=SHORT_EXIT, symbol=GOOGL, price=823.01, shares=12.0, money=9876.12, fee=5, slippage=0.0)\n",
      "Trade(datetime=2016-10-28 00:00:00, action=SHORT, symbol=GOOGL, price=829.94, shares=12.0, money=9959.28, fee=5, slippage=0.0)\n",
      "Trade(datetime=2016-11-01 00:00:00, action=SHORT_EXIT, symbol=GOOGL, price=810.87, shares=12.0, money=9730.44, fee=5, slippage=0.0)\n",
      "Trade(datetime=2016-11-02 00:00:00, action=SHORT, symbol=GOOGL, price=806.76, shares=12.0, money=9681.12, fee=5, slippage=0.0)\n",
      "Trade(datetime=2016-11-04 00:00:00, action=SHORT_EXIT, symbol=GOOGL, price=771.3, shares=12.0, money=9255.6, fee=5, slippage=0.0)\n",
      "Trade(datetime=2016-11-07 00:00:00, action=SHORT, symbol=GOOGL, price=794.95, shares=13.0, money=10334.35, fee=5, slippage=0.0)\n",
      "Trade(datetime=2016-11-09 00:00:00, action=SHORT_EXIT, symbol=GOOGL, price=801.83, shares=13.0, money=10423.79, fee=5, slippage=0.0)\n",
      "Trade(datetime=2016-11-10 00:00:00, action=SHORT, symbol=GOOGL, price=810.0, shares=12.0, money=9720.0, fee=5, slippage=0.0)\n",
      "Trade(datetime=2016-11-14 00:00:00, action=SHORT_EXIT, symbol=GOOGL, price=771.76, shares=12.0, money=9261.12, fee=5, slippage=0.0)\n",
      "Trade(datetime=2016-11-15 00:00:00, action=SHORT, symbol=GOOGL, price=765.47, shares=13.0, money=9951.11, fee=5, slippage=0.0)\n",
      "Trade(datetime=2016-11-17 00:00:00, action=SHORT_EXIT, symbol=GOOGL, price=782.5, shares=13.0, money=10172.5, fee=5, slippage=0.0)\n",
      "Trade(datetime=2016-11-18 00:00:00, action=SHORT, symbol=GOOGL, price=787.17, shares=13.0, money=10233.21, fee=5, slippage=0.0)\n",
      "Trade(datetime=2016-11-22 00:00:00, action=SHORT_EXIT, symbol=GOOGL, price=788.99, shares=13.0, money=10256.87, fee=5, slippage=0.0)\n",
      "Trade(datetime=2016-11-23 00:00:00, action=SHORT, symbol=GOOGL, price=789.52, shares=13.0, money=10263.76, fee=5, slippage=0.0)\n",
      "Trade(datetime=2016-11-28 00:00:00, action=SHORT_EXIT, symbol=GOOGL, price=778.35, shares=13.0, money=10118.55, fee=5, slippage=0.0)\n",
      "Trade(datetime=2016-11-29 00:00:00, action=SHORT, symbol=GOOGL, price=788.38, shares=13.0, money=10248.94, fee=5, slippage=0.0)\n",
      "Trade(datetime=2016-12-01 00:00:00, action=SHORT_EXIT, symbol=GOOGL, price=778.55, shares=13.0, money=10121.15, fee=5, slippage=0.0)\n",
      "Trade(datetime=2016-12-02 00:00:00, action=SHORT, symbol=GOOGL, price=761.9, shares=13.0, money=9904.7, fee=5, slippage=0.0)\n",
      "Trade(datetime=2016-12-06 00:00:00, action=SHORT_EXIT, symbol=GOOGL, price=780.19, shares=13.0, money=10142.47, fee=5, slippage=0.0)\n",
      "Trade(datetime=2016-12-07 00:00:00, action=SHORT, symbol=GOOGL, price=779.95, shares=13.0, money=10139.35, fee=5, slippage=0.0)\n",
      "Trade(datetime=2016-12-09 00:00:00, action=SHORT_EXIT, symbol=GOOGL, price=799.3, shares=13.0, money=10390.9, fee=5, slippage=0.0)\n",
      "Trade(datetime=2016-12-12 00:00:00, action=SHORT, symbol=GOOGL, price=804.82, shares=12.0, money=9657.84, fee=5, slippage=0.0)\n",
      "Trade(datetime=2016-12-14 00:00:00, action=SHORT_EXIT, symbol=GOOGL, price=815.92, shares=12.0, money=9791.04, fee=5, slippage=0.0)\n",
      "Trade(datetime=2016-12-15 00:00:00, action=SHORT, symbol=GOOGL, price=817.36, shares=12.0, money=9808.32, fee=5, slippage=0.0)\n",
      "Trade(datetime=2016-12-19 00:00:00, action=SHORT_EXIT, symbol=GOOGL, price=809.28, shares=12.0, money=9711.36, fee=5, slippage=0.0)\n",
      "Trade(datetime=2016-12-20 00:00:00, action=SHORT, symbol=GOOGL, price=813.37, shares=12.0, money=9760.44, fee=5, slippage=0.0)\n",
      "Trade(datetime=2016-12-22 00:00:00, action=SHORT_EXIT, symbol=GOOGL, price=809.1, shares=12.0, money=9709.2, fee=5, slippage=0.0)\n",
      "Trade(datetime=2016-12-23 00:00:00, action=SHORT, symbol=GOOGL, price=808.01, shares=12.0, money=9696.12, fee=5, slippage=0.0)\n",
      "Trade(datetime=2016-12-28 00:00:00, action=SHORT_EXIT, symbol=GOOGL, price=813.33, shares=12.0, money=9759.96, fee=5, slippage=0.0)\n",
      "Trade(datetime=2016-12-29 00:00:00, action=SHORT, symbol=GOOGL, price=802.33, shares=12.0, money=9627.96, fee=5, slippage=0.0)\n",
      "Trade(datetime=2017-01-03 00:00:00, action=SHORT_EXIT, symbol=GOOGL, price=800.62, shares=12.0, money=9607.44, fee=5, slippage=0.0)\n",
      "Trade(datetime=2017-01-04 00:00:00, action=SHORT, symbol=GOOGL, price=809.89, shares=12.0, money=9718.68, fee=5, slippage=0.0)\n",
      "Trade(datetime=2017-01-06 00:00:00, action=SHORT_EXIT, symbol=GOOGL, price=814.99, shares=12.0, money=9779.88, fee=5, slippage=0.0)\n",
      "Trade(datetime=2017-01-09 00:00:00, action=SHORT, symbol=GOOGL, price=826.37, shares=12.0, money=9916.44, fee=5, slippage=0.0)\n",
      "Trade(datetime=2017-01-11 00:00:00, action=SHORT_EXIT, symbol=GOOGL, price=826.62, shares=12.0, money=9919.44, fee=5, slippage=0.0)\n",
      "Trade(datetime=2017-01-12 00:00:00, action=SHORT, symbol=GOOGL, price=828.38, shares=12.0, money=9940.56, fee=5, slippage=0.0)\n",
      "Trade(datetime=2017-01-17 00:00:00, action=SHORT_EXIT, symbol=GOOGL, price=830.0, shares=12.0, money=9960.0, fee=5, slippage=0.0)\n",
      "Trade(datetime=2017-01-18 00:00:00, action=SHORT, symbol=GOOGL, price=829.8, shares=12.0, money=9957.6, fee=5, slippage=0.0)\n",
      "Trade(datetime=2017-01-20 00:00:00, action=SHORT_EXIT, symbol=GOOGL, price=829.09, shares=12.0, money=9949.08, fee=5, slippage=0.0)\n",
      "Trade(datetime=2017-01-23 00:00:00, action=SHORT, symbol=GOOGL, price=831.61, shares=12.0, money=9979.32, fee=5, slippage=0.0)\n",
      "Trade(datetime=2017-01-25 00:00:00, action=SHORT_EXIT, symbol=GOOGL, price=853.55, shares=12.0, money=10242.6, fee=5, slippage=0.0)\n",
      "Trade(datetime=2017-01-26 00:00:00, action=SHORT, symbol=GOOGL, price=859.05, shares=12.0, money=10308.6, fee=5, slippage=0.0)\n",
      "Trade(datetime=2017-01-30 00:00:00, action=SHORT_EXIT, symbol=GOOGL, price=837.06, shares=12.0, money=10044.72, fee=5, slippage=0.0)\n",
      "Trade(datetime=2017-01-31 00:00:00, action=SHORT, symbol=GOOGL, price=819.5, shares=12.0, money=9834.0, fee=5, slippage=0.0)\n",
      "Trade(datetime=2017-02-02 00:00:00, action=SHORT_EXIT, symbol=GOOGL, price=815.0, shares=12.0, money=9780.0, fee=5, slippage=0.0)\n",
      "Trade(datetime=2017-02-03 00:00:00, action=SHORT, symbol=GOOGL, price=823.13, shares=12.0, money=9877.56, fee=5, slippage=0.0)\n",
      "Trade(datetime=2017-02-07 00:00:00, action=SHORT_EXIT, symbol=GOOGL, price=825.5, shares=12.0, money=9906.0, fee=5, slippage=0.0)\n",
      "Trade(datetime=2017-02-08 00:00:00, action=SHORT, symbol=GOOGL, price=830.53, shares=12.0, money=9966.36, fee=5, slippage=0.0)\n",
      "Trade(datetime=2017-02-10 00:00:00, action=SHORT_EXIT, symbol=GOOGL, price=832.95, shares=12.0, money=9995.4, fee=5, slippage=0.0)\n",
      "Trade(datetime=2017-02-13 00:00:00, action=SHORT, symbol=GOOGL, price=837.7, shares=12.0, money=10052.4, fee=5, slippage=0.0)\n",
      "Trade(datetime=2017-02-15 00:00:00, action=SHORT_EXIT, symbol=GOOGL, price=838.81, shares=12.0, money=10065.72, fee=5, slippage=0.0)\n",
      "Trade(datetime=2017-02-16 00:00:00, action=SHORT, symbol=GOOGL, price=838.5, shares=12.0, money=10062.0, fee=5, slippage=0.0)\n",
      "Trade(datetime=2017-02-21 00:00:00, action=SHORT_EXIT, symbol=GOOGL, price=847.99, shares=12.0, money=10175.88, fee=5, slippage=0.0)\n",
      "Trade(datetime=2017-02-22 00:00:00, action=SHORT, symbol=GOOGL, price=848.0, shares=12.0, money=10176.0, fee=5, slippage=0.0)\n",
      "Trade(datetime=2017-02-24 00:00:00, action=SHORT_EXIT, symbol=GOOGL, price=847.65, shares=12.0, money=10171.8, fee=5, slippage=0.0)\n",
      "Trade(datetime=2017-02-27 00:00:00, action=SHORT, symbol=GOOGL, price=844.95, shares=12.0, money=10139.4, fee=5, slippage=0.0)\n",
      "Trade(datetime=2017-03-01 00:00:00, action=SHORT_EXIT, symbol=GOOGL, price=851.38, shares=12.0, money=10216.56, fee=5, slippage=0.0)\n",
      "Trade(datetime=2017-03-02 00:00:00, action=SHORT, symbol=GOOGL, price=856.31, shares=12.0, money=10275.72, fee=5, slippage=0.0)\n",
      "Trade(datetime=2017-03-06 00:00:00, action=SHORT_EXIT, symbol=GOOGL, price=846.86, shares=12.0, money=10162.32, fee=5, slippage=0.0)\n",
      "Trade(datetime=2017-03-07 00:00:00, action=SHORT, symbol=GOOGL, price=847.26, shares=12.0, money=10167.12, fee=5, slippage=0.0)\n",
      "Trade(datetime=2017-03-09 00:00:00, action=SHORT_EXIT, symbol=GOOGL, price=853.69, shares=12.0, money=10244.28, fee=5, slippage=0.0)\n",
      "Trade(datetime=2017-03-10 00:00:00, action=SHORT, symbol=GOOGL, price=862.7, shares=12.0, money=10352.4, fee=5, slippage=0.0)\n",
      "Trade(datetime=2017-03-14 00:00:00, action=SHORT_EXIT, symbol=GOOGL, price=863.75, shares=12.0, money=10365.0, fee=5, slippage=0.0)\n",
      "Trade(datetime=2017-03-15 00:00:00, action=SHORT, symbol=GOOGL, price=867.94, shares=12.0, money=10415.28, fee=5, slippage=0.0)\n",
      "Trade(datetime=2017-03-17 00:00:00, action=SHORT_EXIT, symbol=GOOGL, price=873.68, shares=12.0, money=10484.16, fee=5, slippage=0.0)\n",
      "Trade(datetime=2017-03-20 00:00:00, action=SHORT, symbol=GOOGL, price=869.48, shares=12.0, money=10433.76, fee=5, slippage=0.0)\n",
      "Trade(datetime=2017-03-22 00:00:00, action=SHORT_EXIT, symbol=GOOGL, price=849.48, shares=12.0, money=10193.76, fee=5, slippage=0.0)\n",
      "Trade(datetime=2017-03-23 00:00:00, action=SHORT, symbol=GOOGL, price=841.39, shares=12.0, money=10096.68, fee=5, slippage=0.0)\n",
      "Trade(datetime=2017-03-27 00:00:00, action=SHORT_EXIT, symbol=GOOGL, price=828.09, shares=12.0, money=9937.08, fee=5, slippage=0.0)\n",
      "Trade(datetime=2017-03-28 00:00:00, action=SHORT, symbol=GOOGL, price=839.69, shares=12.0, money=10076.28, fee=5, slippage=0.0)\n",
      "Trade(datetime=2017-03-30 00:00:00, action=SHORT_EXIT, symbol=GOOGL, price=851.98, shares=12.0, money=10223.76, fee=5, slippage=0.0)\n",
      "Trade(datetime=2017-03-31 00:00:00, action=SHORT, symbol=GOOGL, price=846.83, shares=12.0, money=10161.96, fee=5, slippage=0.0)\n",
      "Trade(datetime=2017-04-04 00:00:00, action=SHORT_EXIT, symbol=GOOGL, price=848.0, shares=12.0, money=10176.0, fee=5, slippage=0.0)\n",
      "Trade(datetime=2017-04-05 00:00:00, action=SHORT, symbol=GOOGL, price=854.71, shares=12.0, money=10256.52, fee=5, slippage=0.0)\n",
      "Trade(datetime=2017-04-07 00:00:00, action=SHORT_EXIT, symbol=GOOGL, price=845.0, shares=12.0, money=10140.0, fee=5, slippage=0.0)\n",
      "Trade(datetime=2017-04-10 00:00:00, action=SHORT, symbol=GOOGL, price=841.54, shares=12.0, money=10098.48, fee=5, slippage=0.0)\n",
      "Trade(datetime=2017-04-12 00:00:00, action=SHORT_EXIT, symbol=GOOGL, price=838.46, shares=12.0, money=10061.52, fee=5, slippage=0.0)\n",
      "Trade(datetime=2017-04-13 00:00:00, action=SHORT, symbol=GOOGL, price=841.04, shares=12.0, money=10092.48, fee=5, slippage=0.0)\n",
      "Profitability: 43.9252336449\n",
      "# Trades: 107\n",
      "Net Profit: -515.55\n",
      "Gross Profit: 6431.31\n",
      "Gross Loss: -6946.86\n",
      "Winning Trades: 47\n",
      "Losing Trades: 60\n",
      "Sharpe Ratio: -0.246405665693\n",
      "Avg. Trading Amount: 10102.4579439\n",
      "Avg. Fees: 10.046728972\n",
      "Avg. Slippage: 0.0\n",
      "Avg. Gains: -0.0136051793205\n",
      "Avg. Winner: 1.42256049404\n",
      "Avg. Loser: -1.13860162345\n",
      "Avg. Bars: 2.0\n",
      "Total Fees: 1075.0\n",
      "Total Slippage: 0.0\n",
      "Trades Lacking Capital: 0\n",
      "Ongoing Trades: 1\n"
     ]
    }
   ],
   "source": [
    "print strat.report.pretty_overview()"
   ]
  },
  {
   "cell_type": "code",
   "execution_count": null,
   "metadata": {
    "collapsed": true
   },
   "outputs": [],
   "source": []
  },
  {
   "cell_type": "code",
   "execution_count": null,
   "metadata": {
    "collapsed": true
   },
   "outputs": [],
   "source": []
  }
 ],
 "metadata": {
  "anaconda-cloud": {},
  "kernelspec": {
   "display_name": "Python 2",
   "language": "python",
   "name": "python2"
  },
  "language_info": {
   "codemirror_mode": {
    "name": "ipython",
    "version": 2
   },
   "file_extension": ".py",
   "mimetype": "text/x-python",
   "name": "python",
   "nbconvert_exporter": "python",
   "pygments_lexer": "ipython2",
   "version": "2.7.13"
  }
 },
 "nbformat": 4,
 "nbformat_minor": 1
}
