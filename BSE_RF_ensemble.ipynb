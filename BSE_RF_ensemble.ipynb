{
 "cells": [
  {
   "cell_type": "code",
   "execution_count": 1,
   "metadata": {
    "collapsed": true
   },
   "outputs": [],
   "source": [
    "import datetime\n",
    "from nowtrade.symbol_list import StockList\n",
    "from nowtrade.data_connection import MongoDatabaseConnection\n",
    "from nowtrade import dataset \n",
    "from nowtrade import technical_indicator\n",
    "from nowtrade import criteria\n",
    "from nowtrade import criteria_group\n",
    "from nowtrade import trading_profile\n",
    "from nowtrade import trading_amount\n",
    "from nowtrade import trading_fee\n",
    "from nowtrade import strategy\n",
    "from nowtrade import ensemble\n",
    "from nowtrade.action import Long\n",
    "from nowtrade.action import Short\n",
    "from nowtrade.action import LongExit\n",
    "from nowtrade.action import ShortExit"
   ]
  },
  {
   "cell_type": "code",
   "execution_count": 4,
   "metadata": {
    "collapsed": true
   },
   "outputs": [],
   "source": [
    "%matplotlib inline\n",
    "import pandas as pd\n",
    "import numpy as np\n",
    "from nowtrade import data_connection"
   ]
  },
  {
   "cell_type": "code",
   "execution_count": 14,
   "metadata": {
    "collapsed": false
   },
   "outputs": [],
   "source": [
    "sl=StockList(['BSE'])\n",
    "symbol= sl.get('BSE')"
   ]
  },
  {
   "cell_type": "code",
   "execution_count": 15,
   "metadata": {
    "collapsed": false
   },
   "outputs": [],
   "source": [
    "train_start = datetime.datetime(2008, 01, 03)\n",
    "train_end = datetime.datetime(2016,01, 01)\n",
    "train_dataset= pd.read_csv('BSESN.csv')\n",
    "#train_dataset = dataset.Dataset(sl, MongoDatabaseConnection(), train_start, train_end)\n",
    "#train_dataset=dc.get_data(symbol,train_start,train_end)"
   ]
  },
  {
   "cell_type": "code",
   "execution_count": 16,
   "metadata": {
    "collapsed": false
   },
   "outputs": [],
   "source": [
    "#train_dataset.load_data()"
   ]
  },
  {
   "cell_type": "code",
   "execution_count": 17,
   "metadata": {
    "collapsed": false
   },
   "outputs": [],
   "source": [
    "train_dataset=train_dataset.set_index(train_dataset['Date'])"
   ]
  },
  {
   "cell_type": "code",
   "execution_count": 18,
   "metadata": {
    "collapsed": false
   },
   "outputs": [],
   "source": [
    "train_dataset=train_dataset.drop('Date',1)"
   ]
  },
  {
   "cell_type": "code",
   "execution_count": 19,
   "metadata": {
    "collapsed": false
   },
   "outputs": [
    {
     "data": {
      "text/html": [
       "<div>\n",
       "<table border=\"1\" class=\"dataframe\">\n",
       "  <thead>\n",
       "    <tr style=\"text-align: right;\">\n",
       "      <th></th>\n",
       "      <th>Open</th>\n",
       "      <th>High</th>\n",
       "      <th>Low</th>\n",
       "      <th>Close</th>\n",
       "      <th>Volume</th>\n",
       "      <th>Adj Close</th>\n",
       "    </tr>\n",
       "    <tr>\n",
       "      <th>Date</th>\n",
       "      <th></th>\n",
       "      <th></th>\n",
       "      <th></th>\n",
       "      <th></th>\n",
       "      <th></th>\n",
       "      <th></th>\n",
       "    </tr>\n",
       "  </thead>\n",
       "  <tbody>\n",
       "    <tr>\n",
       "      <th>2017-05-02</th>\n",
       "      <td>30021.490234</td>\n",
       "      <td>30069.240234</td>\n",
       "      <td>29804.119141</td>\n",
       "      <td>29921.179688</td>\n",
       "      <td>11700</td>\n",
       "      <td>29921.179688</td>\n",
       "    </tr>\n",
       "    <tr>\n",
       "      <th>2017-04-28</th>\n",
       "      <td>30064.599609</td>\n",
       "      <td>30067.640625</td>\n",
       "      <td>29848.210938</td>\n",
       "      <td>29918.400391</td>\n",
       "      <td>11300</td>\n",
       "      <td>29918.400391</td>\n",
       "    </tr>\n",
       "    <tr>\n",
       "      <th>2017-04-27</th>\n",
       "      <td>30141.390625</td>\n",
       "      <td>30184.220703</td>\n",
       "      <td>29973.400391</td>\n",
       "      <td>30029.740234</td>\n",
       "      <td>10700</td>\n",
       "      <td>30029.740234</td>\n",
       "    </tr>\n",
       "    <tr>\n",
       "      <th>2017-04-26</th>\n",
       "      <td>30030.199219</td>\n",
       "      <td>30167.089844</td>\n",
       "      <td>29968.570312</td>\n",
       "      <td>30133.349609</td>\n",
       "      <td>10900</td>\n",
       "      <td>30133.349609</td>\n",
       "    </tr>\n",
       "    <tr>\n",
       "      <th>2017-04-25</th>\n",
       "      <td>29825.140625</td>\n",
       "      <td>29961.820312</td>\n",
       "      <td>29780.839844</td>\n",
       "      <td>29943.240234</td>\n",
       "      <td>8600</td>\n",
       "      <td>29943.240234</td>\n",
       "    </tr>\n",
       "  </tbody>\n",
       "</table>\n",
       "</div>"
      ],
      "text/plain": [
       "                    Open          High           Low         Close  Volume  \\\n",
       "Date                                                                         \n",
       "2017-05-02  30021.490234  30069.240234  29804.119141  29921.179688   11700   \n",
       "2017-04-28  30064.599609  30067.640625  29848.210938  29918.400391   11300   \n",
       "2017-04-27  30141.390625  30184.220703  29973.400391  30029.740234   10700   \n",
       "2017-04-26  30030.199219  30167.089844  29968.570312  30133.349609   10900   \n",
       "2017-04-25  29825.140625  29961.820312  29780.839844  29943.240234    8600   \n",
       "\n",
       "               Adj Close  \n",
       "Date                      \n",
       "2017-05-02  29921.179688  \n",
       "2017-04-28  29918.400391  \n",
       "2017-04-27  30029.740234  \n",
       "2017-04-26  30133.349609  \n",
       "2017-04-25  29943.240234  "
      ]
     },
     "execution_count": 19,
     "metadata": {},
     "output_type": "execute_result"
    }
   ],
   "source": [
    "train_dataset.head()"
   ]
  },
  {
   "cell_type": "code",
   "execution_count": 27,
   "metadata": {
    "collapsed": false
   },
   "outputs": [],
   "source": [
    "tt=train_dataset.sort_index(ascending=True)"
   ]
  },
  {
   "cell_type": "code",
   "execution_count": 40,
   "metadata": {
    "collapsed": false
   },
   "outputs": [],
   "source": [
    "train_data=tt.loc['2006-01-01':'2016-01-01']"
   ]
  },
  {
   "cell_type": "code",
   "execution_count": 43,
   "metadata": {
    "collapsed": false
   },
   "outputs": [],
   "source": [
    "test_data=tt.loc['2016-01-01':'2016-05-01']"
   ]
  },
  {
   "cell_type": "code",
   "execution_count": 45,
   "metadata": {
    "collapsed": false
   },
   "outputs": [
    {
     "data": {
      "text/html": [
       "<div>\n",
       "<table border=\"1\" class=\"dataframe\">\n",
       "  <thead>\n",
       "    <tr style=\"text-align: right;\">\n",
       "      <th></th>\n",
       "      <th>Open</th>\n",
       "      <th>High</th>\n",
       "      <th>Low</th>\n",
       "      <th>Close</th>\n",
       "      <th>Volume</th>\n",
       "      <th>Adj Close</th>\n",
       "    </tr>\n",
       "    <tr>\n",
       "      <th>Date</th>\n",
       "      <th></th>\n",
       "      <th></th>\n",
       "      <th></th>\n",
       "      <th></th>\n",
       "      <th></th>\n",
       "      <th></th>\n",
       "    </tr>\n",
       "  </thead>\n",
       "  <tbody>\n",
       "    <tr>\n",
       "      <th>2016-04-25</th>\n",
       "      <td>25891.029297</td>\n",
       "      <td>25891.029297</td>\n",
       "      <td>25585.929688</td>\n",
       "      <td>25678.929688</td>\n",
       "      <td>8200</td>\n",
       "      <td>25678.929688</td>\n",
       "    </tr>\n",
       "    <tr>\n",
       "      <th>2016-04-26</th>\n",
       "      <td>25604.919922</td>\n",
       "      <td>26055.000000</td>\n",
       "      <td>25549.050781</td>\n",
       "      <td>26007.300781</td>\n",
       "      <td>11200</td>\n",
       "      <td>26007.300781</td>\n",
       "    </tr>\n",
       "    <tr>\n",
       "      <th>2016-04-27</th>\n",
       "      <td>25956.419922</td>\n",
       "      <td>26092.929688</td>\n",
       "      <td>25885.240234</td>\n",
       "      <td>26064.119141</td>\n",
       "      <td>11200</td>\n",
       "      <td>26064.119141</td>\n",
       "    </tr>\n",
       "    <tr>\n",
       "      <th>2016-04-28</th>\n",
       "      <td>26078.279297</td>\n",
       "      <td>26100.539062</td>\n",
       "      <td>25561.169922</td>\n",
       "      <td>25603.099609</td>\n",
       "      <td>14600</td>\n",
       "      <td>25603.099609</td>\n",
       "    </tr>\n",
       "    <tr>\n",
       "      <th>2016-04-29</th>\n",
       "      <td>25612.910156</td>\n",
       "      <td>25755.429688</td>\n",
       "      <td>25424.029297</td>\n",
       "      <td>25606.619141</td>\n",
       "      <td>14600</td>\n",
       "      <td>25606.619141</td>\n",
       "    </tr>\n",
       "  </tbody>\n",
       "</table>\n",
       "</div>"
      ],
      "text/plain": [
       "                    Open          High           Low         Close  Volume  \\\n",
       "Date                                                                         \n",
       "2016-04-25  25891.029297  25891.029297  25585.929688  25678.929688    8200   \n",
       "2016-04-26  25604.919922  26055.000000  25549.050781  26007.300781   11200   \n",
       "2016-04-27  25956.419922  26092.929688  25885.240234  26064.119141   11200   \n",
       "2016-04-28  26078.279297  26100.539062  25561.169922  25603.099609   14600   \n",
       "2016-04-29  25612.910156  25755.429688  25424.029297  25606.619141   14600   \n",
       "\n",
       "               Adj Close  \n",
       "Date                      \n",
       "2016-04-25  25678.929688  \n",
       "2016-04-26  26007.300781  \n",
       "2016-04-27  26064.119141  \n",
       "2016-04-28  25603.099609  \n",
       "2016-04-29  25606.619141  "
      ]
     },
     "execution_count": 45,
     "metadata": {},
     "output_type": "execute_result"
    }
   ],
   "source": [
    "test_data.tail()"
   ]
  },
  {
   "cell_type": "code",
   "execution_count": 46,
   "metadata": {
    "collapsed": true
   },
   "outputs": [],
   "source": [
    "#rf = ensemble.Ensemble(['Open', 'High', 'Low',  'Volume'], ['Close'])"
   ]
  },
  {
   "cell_type": "code",
   "execution_count": 66,
   "metadata": {
    "collapsed": true
   },
   "outputs": [],
   "source": [
    "from sklearn.cross_validation import train_test_split\n",
    "from sklearn.metrics import confusion_matrix\n",
    "from sklearn.metrics import precision_recall_curve\n",
    "from sklearn.metrics import precision_score,recall_score"
   ]
  },
  {
   "cell_type": "code",
   "execution_count": null,
   "metadata": {
    "collapsed": true
   },
   "outputs": [],
   "source": [
    "train_values=train_data"
   ]
  },
  {
   "cell_type": "code",
   "execution_count": 49,
   "metadata": {
    "collapsed": true
   },
   "outputs": [],
   "source": [
    "train_columns=['Open', 'High', 'Low',  'Volume']\n",
    "train_test_column=['Close']"
   ]
  },
  {
   "cell_type": "code",
   "execution_count": 51,
   "metadata": {
    "collapsed": true
   },
   "outputs": [],
   "source": [
    "from sklearn.ensemble import RandomForestClassifier"
   ]
  },
  {
   "cell_type": "code",
   "execution_count": 65,
   "metadata": {
    "collapsed": true
   },
   "outputs": [],
   "source": [
    "rf=RandomForestClassifier(n_jobs=2,max_depth=7,n_estimators=500)"
   ]
  },
  {
   "cell_type": "code",
   "execution_count": 62,
   "metadata": {
    "collapsed": false
   },
   "outputs": [
    {
     "data": {
      "text/plain": [
       "RandomForestClassifier(bootstrap=True, class_weight=None, criterion='gini',\n",
       "            max_depth=None, max_features='auto', max_leaf_nodes=None,\n",
       "            min_samples_leaf=1, min_samples_split=2,\n",
       "            min_weight_fraction_leaf=0.0, n_estimators=10, n_jobs=1,\n",
       "            oob_score=False, random_state=None, verbose=0,\n",
       "            warm_start=False)"
      ]
     },
     "execution_count": 62,
     "metadata": {},
     "output_type": "execute_result"
    }
   ],
   "source": [
    "rf.fit(train_data.drop('Close',1),np.asarray(train_data['Close'],dtype=\"|S6\"))"
   ]
  },
  {
   "cell_type": "code",
   "execution_count": 64,
   "metadata": {
    "collapsed": false
   },
   "outputs": [
    {
     "data": {
      "text/plain": [
       "<bound method RandomForestClassifier.score of RandomForestClassifier(bootstrap=True, class_weight=None, criterion='gini',\n",
       "            max_depth=None, max_features='auto', max_leaf_nodes=None,\n",
       "            min_samples_leaf=1, min_samples_split=2,\n",
       "            min_weight_fraction_leaf=0.0, n_estimators=10, n_jobs=1,\n",
       "            oob_score=False, random_state=None, verbose=0,\n",
       "            warm_start=False)>"
      ]
     },
     "execution_count": 64,
     "metadata": {},
     "output_type": "execute_result"
    }
   ],
   "source": [
    "rf."
   ]
  },
  {
   "cell_type": "code",
   "execution_count": 63,
   "metadata": {
    "collapsed": false
   },
   "outputs": [],
   "source": [
    "class MongoDatabaseConnection(DataConnection):\n",
    "    \"\"\"\n",
    "    MongoDB connection to retrieve data.\n",
    "    \"\"\"\n",
    "    def __init__(self, host='127.0.0.1', port=27017, database='stock-data', \\\n",
    "                 username=None, password=None):\n",
    "        DataConnection.__init__(self)\n",
    "        from pymongo import MongoClient\n",
    "        self.connection = None\n",
    "        self.database = None\n",
    "        self.host = host\n",
    "        self.port = port\n",
    "        self.database = database\n",
    "        self.username = username\n",
    "        self.password = password\n",
    "        self.connection = MongoClient(host, port)\n",
    "        self.database = self.connection[database]\n",
    "\n",
    "    def get_data(self, symbol, start, end, symbol_in_column=True):\n",
    "        \"\"\"\n",
    "        Returns a dataframe of the symbol data requested.\n",
    "        \"\"\"\n",
    "        from pymongo import ASCENDING\n",
    "        symbol = str(symbol).upper()\n",
    "        results = self.database[symbol].find({'_id': \\\n",
    "                              {'$gte': start, '$lte': end}}\\\n",
    "                              ).sort('datetime', ASCENDING)\n",
    "        ret = pd.DataFrame.from_dict(list(results))\n",
    "        if len(ret) < 1:\n",
    "            raise NoDataException()\n",
    "        ret.rename(columns={'open': 'Open', \\\n",
    "                            'high': 'High', \\\n",
    "                            'low': 'Low', \\\n",
    "                            'close': 'Close', \\\n",
    "                            'volume': 'Volume', \\\n",
    "                            'adj_close': 'Adj Close', \\\n",
    "                            '_id': 'Date'}, \\\n",
    "                           inplace=True)\n",
    "        ret = ret.set_index('Date')\n",
    "        if symbol_in_column:\n",
    "            ret.rename(columns=lambda name: '%s_%s' %(symbol, name), inplace=True)\n",
    "        return ret\n",
    "\n",
    "    def set_data(self, data_frame, symbols, volume=True, adj_close=True):\n",
    "        \"\"\"\n",
    "        Stores Open, Close, High, Low, Volume, and Adj Close of\n",
    "        symbols specified using the data in the DataFrame provided.\n",
    "        Typically you'd pull data using another connection and\n",
    "        feed it's data_frame to this function in order to store\n",
    "        the data in a local MongoDB.\n",
    "        \"\"\"\n",
    "        for symbol in symbols:\n",
    "            symbol = str(symbol).upper()\n",
    "            if adj_close:\n",
    "                data = data_frame.loc[:, ['%s_Open' %symbol, \\\n",
    "                                          '%s_Close' %symbol, \\\n",
    "                                          '%s_High' %symbol, \\\n",
    "                                          '%s_Low' %symbol, \\\n",
    "                                          '%s_Volume' %symbol, \\\n",
    "                                          '%s_Adj Close' %symbol]]\n",
    "                data.columns = ['open', 'close', 'high', 'low', 'volume', 'adj_close']\n",
    "            elif volume:\n",
    "                data = data_frame.loc[:, ['%s_Open' %symbol, \\\n",
    "                                          '%s_Close' %symbol, \\\n",
    "                                          '%s_High' %symbol, \\\n",
    "                                          '%s_Low' %symbol, \\\n",
    "                                          '%s_Volume' %symbol]]\n",
    "                data.columns = ['open', 'close', 'high', 'low', 'volume']\n",
    "            else:\n",
    "                data = data_frame.loc[:, ['%s_Open' %symbol, \\\n",
    "                                          '%s_Close' %symbol, \\\n",
    "                                          '%s_High' %symbol, \\\n",
    "                                          '%s_Low' %symbol]]\n",
    "                data.columns = ['open', 'close', 'high', 'low']\n",
    "            for row in data.iterrows():\n",
    "                values = dict(row[1])\n",
    "                values['_id'] = row[0]\n",
    "                self.database[symbol].insert(values)\n",
    "                \n",
    "def populate_mongo_day(symbols, start, end, database='symbol-data'):\n",
    "    \"\"\"\n",
    "    Helper function to populate a local mongo db with daily stock data.\n",
    "    Uses the YahooConnection class.\n",
    "    \"\"\"\n",
    "    mgc = MongoDatabaseConnection(database=database)\n",
    "    for symbol in symbols:\n",
    "        symbol = symbol.upper()\n",
    "        yahoo = YahooConnection()\n",
    "        try:\n",
    "            data = yahoo.get_data(symbol, start, end)\n",
    "            mgc.set_data(data, [symbol])\n",
    "        except Exception, error: # pylint: disable=broad-except\n",
    "            print 'Error for %s (%s - %s): %s' %(symbol, start, end, error)\n",
    "            \n"
   ]
  },
  {
   "cell_type": "code",
   "execution_count": 51,
   "metadata": {
    "collapsed": true
   },
   "outputs": [],
   "source": [
    "import datetime\n",
    "from nowtrade import logger"
   ]
  },
  {
   "cell_type": "code",
   "execution_count": 65,
   "metadata": {
    "collapsed": true
   },
   "outputs": [],
   "source": [
    "sl=StockList(['BSE'])\n",
    "symbol= sl.get('BSE')"
   ]
  },
  {
   "cell_type": "code",
   "execution_count": 35,
   "metadata": {
    "collapsed": false
   },
   "outputs": [
    {
     "name": "stderr",
     "output_type": "stream",
     "text": [
      "/anaconda/lib/python2.7/site-packages/ipykernel/__main__.py:66: DeprecationWarning: insert is deprecated. Use insert_one or insert_many instead.\n"
     ]
    }
   ],
   "source": [
    "populate_mongo_day(symbol,train_start,train_end)"
   ]
  },
  {
   "cell_type": "code",
   "execution_count": 56,
   "metadata": {
    "collapsed": true
   },
   "outputs": [],
   "source": [
    "train_start = datetime.datetime(2008, 01, 03)\n",
    "train_end = datetime.datetime(2016,01, 01)\n",
    "symbol=['BSE']"
   ]
  },
  {
   "cell_type": "code",
   "execution_count": 66,
   "metadata": {
    "collapsed": true
   },
   "outputs": [],
   "source": [
    "train_dataset1 = dataset.Dataset(symbol, MongoDatabaseConnection(), train_start, train_end)"
   ]
  },
  {
   "cell_type": "code",
   "execution_count": 62,
   "metadata": {
    "collapsed": false
   },
   "outputs": [
    {
     "ename": "NoDataException",
     "evalue": "",
     "output_type": "error",
     "traceback": [
      "\u001b[0;31m---------------------------------------------------------------------------\u001b[0m",
      "\u001b[0;31mNoDataException\u001b[0m                           Traceback (most recent call last)",
      "\u001b[0;32m<ipython-input-62-7375fa67bd5b>\u001b[0m in \u001b[0;36m<module>\u001b[0;34m()\u001b[0m\n\u001b[0;32m----> 1\u001b[0;31m \u001b[0mtrain_dataset1\u001b[0m\u001b[0;34m=\u001b[0m\u001b[0mMongoDatabaseConnection\u001b[0m\u001b[0;34m(\u001b[0m\u001b[0;34m)\u001b[0m\u001b[0;34m.\u001b[0m\u001b[0mget_data\u001b[0m\u001b[0;34m(\u001b[0m\u001b[0msymbol\u001b[0m\u001b[0;34m,\u001b[0m\u001b[0mtrain_start\u001b[0m\u001b[0;34m,\u001b[0m\u001b[0mtrain_end\u001b[0m\u001b[0;34m)\u001b[0m\u001b[0;34m\u001b[0m\u001b[0m\n\u001b[0m",
      "\u001b[0;32m<ipython-input-59-019abb4912cd>\u001b[0m in \u001b[0;36mget_data\u001b[0;34m(self, symbol, start, end)\u001b[0m\n\u001b[1;32m     41\u001b[0m         \u001b[0mret\u001b[0m \u001b[0;34m=\u001b[0m \u001b[0mpd\u001b[0m\u001b[0;34m.\u001b[0m\u001b[0mDataFrame\u001b[0m\u001b[0;34m.\u001b[0m\u001b[0mfrom_dict\u001b[0m\u001b[0;34m(\u001b[0m\u001b[0mlist\u001b[0m\u001b[0;34m(\u001b[0m\u001b[0mresults\u001b[0m\u001b[0;34m)\u001b[0m\u001b[0;34m)\u001b[0m\u001b[0;34m\u001b[0m\u001b[0m\n\u001b[1;32m     42\u001b[0m         \u001b[0;32mif\u001b[0m \u001b[0mlen\u001b[0m\u001b[0;34m(\u001b[0m\u001b[0mret\u001b[0m\u001b[0;34m)\u001b[0m \u001b[0;34m<\u001b[0m \u001b[0;36m1\u001b[0m\u001b[0;34m:\u001b[0m\u001b[0;34m\u001b[0m\u001b[0m\n\u001b[0;32m---> 43\u001b[0;31m             \u001b[0;32mraise\u001b[0m \u001b[0mNoDataException\u001b[0m\u001b[0;34m(\u001b[0m\u001b[0;34m)\u001b[0m\u001b[0;34m\u001b[0m\u001b[0m\n\u001b[0m\u001b[1;32m     44\u001b[0m \u001b[0;34m\u001b[0m\u001b[0m\n\u001b[1;32m     45\u001b[0m         \u001b[0mret\u001b[0m \u001b[0;34m=\u001b[0m \u001b[0mret\u001b[0m\u001b[0;34m.\u001b[0m\u001b[0mset_index\u001b[0m\u001b[0;34m(\u001b[0m\u001b[0;34m'Date'\u001b[0m\u001b[0;34m)\u001b[0m\u001b[0;34m\u001b[0m\u001b[0m\n",
      "\u001b[0;31mNoDataException\u001b[0m: "
     ]
    }
   ],
   "source": [
    "train_dataset1=MongoDatabaseConnection().get_data(symbol,train_start,train_end)"
   ]
  },
  {
   "cell_type": "code",
   "execution_count": 67,
   "metadata": {
    "collapsed": false
   },
   "outputs": [
    {
     "ename": "TypeError",
     "evalue": "'Symbol' object is not iterable",
     "output_type": "error",
     "traceback": [
      "\u001b[0;31m---------------------------------------------------------------------------\u001b[0m",
      "\u001b[0;31mTypeError\u001b[0m                                 Traceback (most recent call last)",
      "\u001b[0;32m<ipython-input-67-50d54bf202e0>\u001b[0m in \u001b[0;36m<module>\u001b[0;34m()\u001b[0m\n\u001b[0;32m----> 1\u001b[0;31m \u001b[0mtrain_dataset1\u001b[0m\u001b[0;34m.\u001b[0m\u001b[0mload_data\u001b[0m\u001b[0;34m(\u001b[0m\u001b[0;34m)\u001b[0m\u001b[0;34m\u001b[0m\u001b[0m\n\u001b[0m",
      "\u001b[0;32m/anaconda/lib/python2.7/site-packages/nowtrade/dataset.pyc\u001b[0m in \u001b[0;36mload_data\u001b[0;34m(self, realtime, **kwargs)\u001b[0m\n\u001b[1;32m     60\u001b[0m         \u001b[0mdataframe\u001b[0m \u001b[0mattribute\u001b[0m\u001b[0;34m.\u001b[0m\u001b[0;34m\u001b[0m\u001b[0m\n\u001b[1;32m     61\u001b[0m         \"\"\"\n\u001b[0;32m---> 62\u001b[0;31m         \u001b[0;32mfor\u001b[0m \u001b[0msymbol\u001b[0m \u001b[0;32min\u001b[0m \u001b[0mself\u001b[0m\u001b[0;34m.\u001b[0m\u001b[0msymbol_list\u001b[0m\u001b[0;34m:\u001b[0m\u001b[0;34m\u001b[0m\u001b[0m\n\u001b[0m\u001b[1;32m     63\u001b[0m             \u001b[0mself\u001b[0m\u001b[0;34m.\u001b[0m\u001b[0mlogger\u001b[0m\u001b[0;34m.\u001b[0m\u001b[0minfo\u001b[0m\u001b[0;34m(\u001b[0m\u001b[0;34m'Loading data for %s (realtime=%s)'\u001b[0m \u001b[0;34m%\u001b[0m\u001b[0;34m(\u001b[0m\u001b[0msymbol\u001b[0m\u001b[0;34m,\u001b[0m \u001b[0mrealtime\u001b[0m\u001b[0;34m)\u001b[0m\u001b[0;34m)\u001b[0m\u001b[0;34m\u001b[0m\u001b[0m\n\u001b[1;32m     64\u001b[0m             \u001b[0;32mif\u001b[0m \u001b[0mself\u001b[0m\u001b[0;34m.\u001b[0m\u001b[0mperiods\u001b[0m\u001b[0;34m:\u001b[0m\u001b[0;34m\u001b[0m\u001b[0m\n",
      "\u001b[0;31mTypeError\u001b[0m: 'Symbol' object is not iterable"
     ]
    }
   ],
   "source": [
    "train_dataset1.load_data()"
   ]
  },
  {
   "cell_type": "code",
   "execution_count": null,
   "metadata": {
    "collapsed": true
   },
   "outputs": [],
   "source": []
  },
  {
   "cell_type": "code",
   "execution_count": null,
   "metadata": {
    "collapsed": true
   },
   "outputs": [],
   "source": []
  }
 ],
 "metadata": {
  "anaconda-cloud": {},
  "kernelspec": {
   "display_name": "Python [default]",
   "language": "python",
   "name": "python2"
  },
  "language_info": {
   "codemirror_mode": {
    "name": "ipython",
    "version": 2
   },
   "file_extension": ".py",
   "mimetype": "text/x-python",
   "name": "python",
   "nbconvert_exporter": "python",
   "pygments_lexer": "ipython2",
   "version": "2.7.12"
  }
 },
 "nbformat": 4,
 "nbformat_minor": 1
}
