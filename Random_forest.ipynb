{
 "cells": [
  {
   "cell_type": "code",
   "execution_count": 1,
   "metadata": {
    "collapsed": true
   },
   "outputs": [],
   "source": [
    "import datetime\n",
    "from nowtrade.symbol_list import StockList\n",
    "from nowtrade.data_connection import MongoDatabaseConnection\n",
    "from nowtrade import dataset \n",
    "from nowtrade import technical_indicator\n",
    "from nowtrade import criteria\n",
    "from nowtrade import criteria_group\n",
    "from nowtrade import trading_profile\n",
    "from nowtrade import trading_amount\n",
    "from nowtrade import trading_fee\n",
    "from nowtrade import strategy\n",
    "from nowtrade import ensemble\n",
    "from nowtrade.action import Long\n",
    "from nowtrade.action import Short\n",
    "from nowtrade.action import LongExit\n",
    "from nowtrade.action import ShortExit"
   ]
  },
  {
   "cell_type": "code",
   "execution_count": 2,
   "metadata": {
    "collapsed": true
   },
   "outputs": [],
   "source": [
    "%matplotlib inline\n",
    "import pandas as pd\n",
    "import numpy as np"
   ]
  },
  {
   "cell_type": "code",
   "execution_count": 3,
   "metadata": {
    "collapsed": true
   },
   "outputs": [],
   "source": [
    "sl=StockList(['GOOGL'])\n",
    "symbol= sl.get('GOOGL')"
   ]
  },
  {
   "cell_type": "code",
   "execution_count": 4,
   "metadata": {
    "collapsed": true
   },
   "outputs": [],
   "source": [
    "train_start = datetime.datetime(2013, 01, 03)\n",
    "train_end = datetime.datetime(2016,01, 01)\n",
    "train_dataset = dataset.Dataset(sl, MongoDatabaseConnection(), train_start, train_end)\n",
    "#train_dataset=dc.get_data(symbol,train_start,train_end)"
   ]
  },
  {
   "cell_type": "code",
   "execution_count": 5,
   "metadata": {
    "collapsed": false
   },
   "outputs": [],
   "source": [
    "train_dataset.load_data()"
   ]
  },
  {
   "cell_type": "code",
   "execution_count": 6,
   "metadata": {
    "collapsed": false
   },
   "outputs": [
    {
     "data": {
      "text/plain": [
       "Index([u'GOOGL_Adj Close', u'GOOGL_Close', u'GOOGL_High', u'GOOGL_Low',\n",
       "       u'GOOGL_Open', u'GOOGL_Volume'],\n",
       "      dtype='object')"
      ]
     },
     "execution_count": 6,
     "metadata": {},
     "output_type": "execute_result"
    }
   ],
   "source": [
    "train_dataset.data_frame.columns"
   ]
  },
  {
   "cell_type": "code",
   "execution_count": 7,
   "metadata": {
    "collapsed": false
   },
   "outputs": [
    {
     "data": {
      "text/html": [
       "<div>\n",
       "<table border=\"1\" class=\"dataframe\">\n",
       "  <thead>\n",
       "    <tr style=\"text-align: right;\">\n",
       "      <th></th>\n",
       "      <th>GOOGL_Adj Close</th>\n",
       "      <th>GOOGL_Close</th>\n",
       "      <th>GOOGL_High</th>\n",
       "      <th>GOOGL_Low</th>\n",
       "      <th>GOOGL_Open</th>\n",
       "      <th>GOOGL_Volume</th>\n",
       "    </tr>\n",
       "    <tr>\n",
       "      <th>Date</th>\n",
       "      <th></th>\n",
       "      <th></th>\n",
       "      <th></th>\n",
       "      <th></th>\n",
       "      <th></th>\n",
       "      <th></th>\n",
       "    </tr>\n",
       "  </thead>\n",
       "  <tbody>\n",
       "    <tr>\n",
       "      <th>2013-01-03</th>\n",
       "      <td>362.197209</td>\n",
       "      <td>723.670024</td>\n",
       "      <td>731.930005</td>\n",
       "      <td>720.720035</td>\n",
       "      <td>724.929993</td>\n",
       "      <td>4631700.0</td>\n",
       "    </tr>\n",
       "    <tr>\n",
       "      <th>2013-01-04</th>\n",
       "      <td>369.354344</td>\n",
       "      <td>737.969980</td>\n",
       "      <td>741.470017</td>\n",
       "      <td>727.679987</td>\n",
       "      <td>729.340008</td>\n",
       "      <td>5521400.0</td>\n",
       "    </tr>\n",
       "    <tr>\n",
       "      <th>2013-01-07</th>\n",
       "      <td>367.742742</td>\n",
       "      <td>734.749998</td>\n",
       "      <td>739.380007</td>\n",
       "      <td>730.580038</td>\n",
       "      <td>735.449981</td>\n",
       "      <td>3308000.0</td>\n",
       "    </tr>\n",
       "    <tr>\n",
       "      <th>2013-01-08</th>\n",
       "      <td>367.017034</td>\n",
       "      <td>733.300033</td>\n",
       "      <td>736.300021</td>\n",
       "      <td>724.430006</td>\n",
       "      <td>735.540039</td>\n",
       "      <td>3348800.0</td>\n",
       "    </tr>\n",
       "    <tr>\n",
       "      <th>2013-01-09</th>\n",
       "      <td>369.429448</td>\n",
       "      <td>738.120037</td>\n",
       "      <td>738.350032</td>\n",
       "      <td>728.600026</td>\n",
       "      <td>732.269997</td>\n",
       "      <td>4045300.0</td>\n",
       "    </tr>\n",
       "  </tbody>\n",
       "</table>\n",
       "</div>"
      ],
      "text/plain": [
       "            GOOGL_Adj Close  GOOGL_Close  GOOGL_High   GOOGL_Low  GOOGL_Open  \\\n",
       "Date                                                                           \n",
       "2013-01-03       362.197209   723.670024  731.930005  720.720035  724.929993   \n",
       "2013-01-04       369.354344   737.969980  741.470017  727.679987  729.340008   \n",
       "2013-01-07       367.742742   734.749998  739.380007  730.580038  735.449981   \n",
       "2013-01-08       367.017034   733.300033  736.300021  724.430006  735.540039   \n",
       "2013-01-09       369.429448   738.120037  738.350032  728.600026  732.269997   \n",
       "\n",
       "            GOOGL_Volume  \n",
       "Date                      \n",
       "2013-01-03     4631700.0  \n",
       "2013-01-04     5521400.0  \n",
       "2013-01-07     3308000.0  \n",
       "2013-01-08     3348800.0  \n",
       "2013-01-09     4045300.0  "
      ]
     },
     "execution_count": 7,
     "metadata": {},
     "output_type": "execute_result"
    }
   ],
   "source": [
    "train_dataset.data_frame.head()"
   ]
  },
  {
   "cell_type": "code",
   "execution_count": 8,
   "metadata": {
    "collapsed": true
   },
   "outputs": [],
   "source": [
    "rf = ensemble.Ensemble([symbol.open, symbol.high, symbol.low, symbol.close, symbol.volume], [symbol.close])"
   ]
  },
  {
   "cell_type": "code",
   "execution_count": 9,
   "metadata": {
    "collapsed": false
   },
   "outputs": [],
   "source": [
    "rf.build_ensemble(train_dataset, prediction_window=5, look_back_window=25, number_of_jobs=2)"
   ]
  },
  {
   "cell_type": "code",
   "execution_count": 10,
   "metadata": {
    "collapsed": true
   },
   "outputs": [],
   "source": [
    "rf.fit()"
   ]
  },
  {
   "cell_type": "code",
   "execution_count": 11,
   "metadata": {
    "collapsed": false
   },
   "outputs": [
    {
     "data": {
      "text/html": [
       "<div>\n",
       "<table border=\"1\" class=\"dataframe\">\n",
       "  <thead>\n",
       "    <tr style=\"text-align: right;\">\n",
       "      <th></th>\n",
       "      <th>GOOGL_Adj Close</th>\n",
       "      <th>GOOGL_Close</th>\n",
       "      <th>GOOGL_High</th>\n",
       "      <th>GOOGL_Low</th>\n",
       "      <th>GOOGL_Open</th>\n",
       "      <th>GOOGL_Volume</th>\n",
       "    </tr>\n",
       "    <tr>\n",
       "      <th>Date</th>\n",
       "      <th></th>\n",
       "      <th></th>\n",
       "      <th></th>\n",
       "      <th></th>\n",
       "      <th></th>\n",
       "      <th></th>\n",
       "    </tr>\n",
       "  </thead>\n",
       "  <tbody>\n",
       "    <tr>\n",
       "      <th>2013-01-03</th>\n",
       "      <td>362.197209</td>\n",
       "      <td>723.670024</td>\n",
       "      <td>731.930005</td>\n",
       "      <td>720.720035</td>\n",
       "      <td>724.929993</td>\n",
       "      <td>4631700.0</td>\n",
       "    </tr>\n",
       "    <tr>\n",
       "      <th>2013-01-04</th>\n",
       "      <td>369.354344</td>\n",
       "      <td>737.969980</td>\n",
       "      <td>741.470017</td>\n",
       "      <td>727.679987</td>\n",
       "      <td>729.340008</td>\n",
       "      <td>5521400.0</td>\n",
       "    </tr>\n",
       "    <tr>\n",
       "      <th>2013-01-07</th>\n",
       "      <td>367.742742</td>\n",
       "      <td>734.749998</td>\n",
       "      <td>739.380007</td>\n",
       "      <td>730.580038</td>\n",
       "      <td>735.449981</td>\n",
       "      <td>3308000.0</td>\n",
       "    </tr>\n",
       "    <tr>\n",
       "      <th>2013-01-08</th>\n",
       "      <td>367.017034</td>\n",
       "      <td>733.300033</td>\n",
       "      <td>736.300021</td>\n",
       "      <td>724.430006</td>\n",
       "      <td>735.540039</td>\n",
       "      <td>3348800.0</td>\n",
       "    </tr>\n",
       "    <tr>\n",
       "      <th>2013-01-09</th>\n",
       "      <td>369.429448</td>\n",
       "      <td>738.120037</td>\n",
       "      <td>738.350032</td>\n",
       "      <td>728.600026</td>\n",
       "      <td>732.269997</td>\n",
       "      <td>4045300.0</td>\n",
       "    </tr>\n",
       "  </tbody>\n",
       "</table>\n",
       "</div>"
      ],
      "text/plain": [
       "            GOOGL_Adj Close  GOOGL_Close  GOOGL_High   GOOGL_Low  GOOGL_Open  \\\n",
       "Date                                                                           \n",
       "2013-01-03       362.197209   723.670024  731.930005  720.720035  724.929993   \n",
       "2013-01-04       369.354344   737.969980  741.470017  727.679987  729.340008   \n",
       "2013-01-07       367.742742   734.749998  739.380007  730.580038  735.449981   \n",
       "2013-01-08       367.017034   733.300033  736.300021  724.430006  735.540039   \n",
       "2013-01-09       369.429448   738.120037  738.350032  728.600026  732.269997   \n",
       "\n",
       "            GOOGL_Volume  \n",
       "Date                      \n",
       "2013-01-03     4631700.0  \n",
       "2013-01-04     5521400.0  \n",
       "2013-01-07     3308000.0  \n",
       "2013-01-08     3348800.0  \n",
       "2013-01-09     4045300.0  "
      ]
     },
     "execution_count": 11,
     "metadata": {},
     "output_type": "execute_result"
    }
   ],
   "source": [
    "train_dataset.data_frame.head()"
   ]
  },
  {
   "cell_type": "code",
   "execution_count": null,
   "metadata": {
    "collapsed": false
   },
   "outputs": [],
   "source": []
  },
  {
   "cell_type": "code",
   "execution_count": 12,
   "metadata": {
    "collapsed": true
   },
   "outputs": [],
   "source": [
    "rf.save_to_file('test.ens')"
   ]
  },
  {
   "cell_type": "code",
   "execution_count": 13,
   "metadata": {
    "collapsed": true
   },
   "outputs": [],
   "source": [
    "rf= ensemble.load_from_file('test.ens')"
   ]
  },
  {
   "cell_type": "code",
   "execution_count": 14,
   "metadata": {
    "collapsed": true
   },
   "outputs": [],
   "source": [
    "test_start = train_end\n",
    "test_end = datetime.datetime(2017, 04, 15)\n",
    "test_dataset = dataset.Dataset(sl, MongoDatabaseConnection(), test_start, test_end)"
   ]
  },
  {
   "cell_type": "code",
   "execution_count": 15,
   "metadata": {
    "collapsed": false
   },
   "outputs": [],
   "source": [
    "test_dataset.load_data()"
   ]
  },
  {
   "cell_type": "code",
   "execution_count": 16,
   "metadata": {
    "collapsed": false
   },
   "outputs": [],
   "source": [
    "random_forest = technical_indicator.Ensemble(rf)"
   ]
  },
  {
   "cell_type": "code",
   "execution_count": 17,
   "metadata": {
    "collapsed": false
   },
   "outputs": [
    {
     "data": {
      "text/plain": [
       "ENSEMBLE_4aca7f5d-cbd8-407a-9768-85af291ceaae"
      ]
     },
     "execution_count": 17,
     "metadata": {},
     "output_type": "execute_result"
    }
   ],
   "source": [
    "random_forest"
   ]
  },
  {
   "cell_type": "code",
   "execution_count": null,
   "metadata": {
    "collapsed": false,
    "scrolled": false
   },
   "outputs": [],
   "source": [
    "test_dataset.add_technical_indicator(random_forest)"
   ]
  },
  {
   "cell_type": "code",
   "execution_count": 19,
   "metadata": {
    "collapsed": true
   },
   "outputs": [],
   "source": [
    "z=pd.DataFrame()"
   ]
  },
  {
   "cell_type": "code",
   "execution_count": 20,
   "metadata": {
    "collapsed": false
   },
   "outputs": [],
   "source": [
    "z=test_dataset.data_frame[25:]"
   ]
  },
  {
   "cell_type": "code",
   "execution_count": 21,
   "metadata": {
    "collapsed": true
   },
   "outputs": [],
   "source": [
    "zz=pd.DataFrame()"
   ]
  },
  {
   "cell_type": "code",
   "execution_count": 22,
   "metadata": {
    "collapsed": false
   },
   "outputs": [
    {
     "data": {
      "text/html": [
       "<div>\n",
       "<table border=\"1\" class=\"dataframe\">\n",
       "  <thead>\n",
       "    <tr style=\"text-align: right;\">\n",
       "      <th></th>\n",
       "      <th>GOOGL_Adj Close</th>\n",
       "      <th>GOOGL_Close</th>\n",
       "      <th>GOOGL_High</th>\n",
       "      <th>GOOGL_Low</th>\n",
       "      <th>GOOGL_Open</th>\n",
       "      <th>GOOGL_Volume</th>\n",
       "      <th>ENSEMBLE_4aca7f5d-cbd8-407a-9768-85af291ceaae</th>\n",
       "    </tr>\n",
       "    <tr>\n",
       "      <th>Date</th>\n",
       "      <th></th>\n",
       "      <th></th>\n",
       "      <th></th>\n",
       "      <th></th>\n",
       "      <th></th>\n",
       "      <th></th>\n",
       "      <th></th>\n",
       "    </tr>\n",
       "  </thead>\n",
       "  <tbody>\n",
       "    <tr>\n",
       "      <th>2016-02-09</th>\n",
       "      <td>701.020020</td>\n",
       "      <td>701.020020</td>\n",
       "      <td>720.960022</td>\n",
       "      <td>688.500000</td>\n",
       "      <td>692.950012</td>\n",
       "      <td>4215000.0</td>\n",
       "      <td>700.338814</td>\n",
       "    </tr>\n",
       "    <tr>\n",
       "      <th>2016-02-10</th>\n",
       "      <td>706.849976</td>\n",
       "      <td>706.849976</td>\n",
       "      <td>723.219971</td>\n",
       "      <td>705.390015</td>\n",
       "      <td>711.789978</td>\n",
       "      <td>3015700.0</td>\n",
       "      <td>748.952565</td>\n",
       "    </tr>\n",
       "    <tr>\n",
       "      <th>2016-02-11</th>\n",
       "      <td>706.359985</td>\n",
       "      <td>706.359985</td>\n",
       "      <td>712.320007</td>\n",
       "      <td>691.190002</td>\n",
       "      <td>696.340027</td>\n",
       "      <td>3250200.0</td>\n",
       "      <td>717.935687</td>\n",
       "    </tr>\n",
       "    <tr>\n",
       "      <th>2016-02-12</th>\n",
       "      <td>706.890015</td>\n",
       "      <td>706.890015</td>\n",
       "      <td>716.000000</td>\n",
       "      <td>701.580017</td>\n",
       "      <td>712.210022</td>\n",
       "      <td>2326900.0</td>\n",
       "      <td>749.750345</td>\n",
       "    </tr>\n",
       "    <tr>\n",
       "      <th>2016-02-16</th>\n",
       "      <td>717.640015</td>\n",
       "      <td>717.640015</td>\n",
       "      <td>722.880005</td>\n",
       "      <td>710.179993</td>\n",
       "      <td>718.650024</td>\n",
       "      <td>2172200.0</td>\n",
       "      <td>772.731813</td>\n",
       "    </tr>\n",
       "  </tbody>\n",
       "</table>\n",
       "</div>"
      ],
      "text/plain": [
       "            GOOGL_Adj Close  GOOGL_Close  GOOGL_High   GOOGL_Low  GOOGL_Open  \\\n",
       "Date                                                                           \n",
       "2016-02-09       701.020020   701.020020  720.960022  688.500000  692.950012   \n",
       "2016-02-10       706.849976   706.849976  723.219971  705.390015  711.789978   \n",
       "2016-02-11       706.359985   706.359985  712.320007  691.190002  696.340027   \n",
       "2016-02-12       706.890015   706.890015  716.000000  701.580017  712.210022   \n",
       "2016-02-16       717.640015   717.640015  722.880005  710.179993  718.650024   \n",
       "\n",
       "            GOOGL_Volume  ENSEMBLE_4aca7f5d-cbd8-407a-9768-85af291ceaae  \n",
       "Date                                                                     \n",
       "2016-02-09     4215000.0                                     700.338814  \n",
       "2016-02-10     3015700.0                                     748.952565  \n",
       "2016-02-11     3250200.0                                     717.935687  \n",
       "2016-02-12     2326900.0                                     749.750345  \n",
       "2016-02-16     2172200.0                                     772.731813  "
      ]
     },
     "execution_count": 22,
     "metadata": {},
     "output_type": "execute_result"
    }
   ],
   "source": [
    "z.head()"
   ]
  },
  {
   "cell_type": "code",
   "execution_count": 23,
   "metadata": {
    "collapsed": true
   },
   "outputs": [],
   "source": [
    "r_f='ENSEMBLE_'+random_forest.name"
   ]
  },
  {
   "cell_type": "code",
   "execution_count": 24,
   "metadata": {
    "collapsed": true
   },
   "outputs": [],
   "source": [
    "zz=z.loc[:,['GOOGL_Close',r_f]]"
   ]
  },
  {
   "cell_type": "code",
   "execution_count": 25,
   "metadata": {
    "collapsed": false
   },
   "outputs": [
    {
     "data": {
      "text/html": [
       "<div>\n",
       "<table border=\"1\" class=\"dataframe\">\n",
       "  <thead>\n",
       "    <tr style=\"text-align: right;\">\n",
       "      <th></th>\n",
       "      <th>GOOGL_Close</th>\n",
       "      <th>ENSEMBLE_4aca7f5d-cbd8-407a-9768-85af291ceaae</th>\n",
       "    </tr>\n",
       "    <tr>\n",
       "      <th>Date</th>\n",
       "      <th></th>\n",
       "      <th></th>\n",
       "    </tr>\n",
       "  </thead>\n",
       "  <tbody>\n",
       "    <tr>\n",
       "      <th>2016-02-09</th>\n",
       "      <td>701.020020</td>\n",
       "      <td>700.338814</td>\n",
       "    </tr>\n",
       "    <tr>\n",
       "      <th>2016-02-10</th>\n",
       "      <td>706.849976</td>\n",
       "      <td>748.952565</td>\n",
       "    </tr>\n",
       "    <tr>\n",
       "      <th>2016-02-11</th>\n",
       "      <td>706.359985</td>\n",
       "      <td>717.935687</td>\n",
       "    </tr>\n",
       "    <tr>\n",
       "      <th>2016-02-12</th>\n",
       "      <td>706.890015</td>\n",
       "      <td>749.750345</td>\n",
       "    </tr>\n",
       "    <tr>\n",
       "      <th>2016-02-16</th>\n",
       "      <td>717.640015</td>\n",
       "      <td>772.731813</td>\n",
       "    </tr>\n",
       "  </tbody>\n",
       "</table>\n",
       "</div>"
      ],
      "text/plain": [
       "            GOOGL_Close  ENSEMBLE_4aca7f5d-cbd8-407a-9768-85af291ceaae\n",
       "Date                                                                  \n",
       "2016-02-09   701.020020                                     700.338814\n",
       "2016-02-10   706.849976                                     748.952565\n",
       "2016-02-11   706.359985                                     717.935687\n",
       "2016-02-12   706.890015                                     749.750345\n",
       "2016-02-16   717.640015                                     772.731813"
      ]
     },
     "execution_count": 25,
     "metadata": {},
     "output_type": "execute_result"
    }
   ],
   "source": [
    "zz.head()"
   ]
  },
  {
   "cell_type": "code",
   "execution_count": 26,
   "metadata": {
    "collapsed": false
   },
   "outputs": [],
   "source": [
    "zz.columns=['G_Close','rf']"
   ]
  },
  {
   "cell_type": "code",
   "execution_count": 27,
   "metadata": {
    "collapsed": false
   },
   "outputs": [],
   "source": [
    "from sklearn import preprocessing\n",
    "from sklearn.preprocessing import MinMaxScaler"
   ]
  },
  {
   "cell_type": "code",
   "execution_count": 28,
   "metadata": {
    "collapsed": true
   },
   "outputs": [],
   "source": [
    "mms=MinMaxScaler()"
   ]
  },
  {
   "cell_type": "code",
   "execution_count": 29,
   "metadata": {
    "collapsed": false
   },
   "outputs": [
    {
     "data": {
      "text/html": [
       "<div>\n",
       "<table border=\"1\" class=\"dataframe\">\n",
       "  <thead>\n",
       "    <tr style=\"text-align: right;\">\n",
       "      <th></th>\n",
       "      <th>G_Close</th>\n",
       "      <th>rf</th>\n",
       "    </tr>\n",
       "    <tr>\n",
       "      <th>Date</th>\n",
       "      <th></th>\n",
       "      <th></th>\n",
       "    </tr>\n",
       "  </thead>\n",
       "  <tbody>\n",
       "    <tr>\n",
       "      <th>2016-02-09</th>\n",
       "      <td>701.020020</td>\n",
       "      <td>700.338814</td>\n",
       "    </tr>\n",
       "    <tr>\n",
       "      <th>2016-02-10</th>\n",
       "      <td>706.849976</td>\n",
       "      <td>748.952565</td>\n",
       "    </tr>\n",
       "    <tr>\n",
       "      <th>2016-02-11</th>\n",
       "      <td>706.359985</td>\n",
       "      <td>717.935687</td>\n",
       "    </tr>\n",
       "    <tr>\n",
       "      <th>2016-02-12</th>\n",
       "      <td>706.890015</td>\n",
       "      <td>749.750345</td>\n",
       "    </tr>\n",
       "    <tr>\n",
       "      <th>2016-02-16</th>\n",
       "      <td>717.640015</td>\n",
       "      <td>772.731813</td>\n",
       "    </tr>\n",
       "  </tbody>\n",
       "</table>\n",
       "</div>"
      ],
      "text/plain": [
       "               G_Close          rf\n",
       "Date                              \n",
       "2016-02-09  701.020020  700.338814\n",
       "2016-02-10  706.849976  748.952565\n",
       "2016-02-11  706.359985  717.935687\n",
       "2016-02-12  706.890015  749.750345\n",
       "2016-02-16  717.640015  772.731813"
      ]
     },
     "execution_count": 29,
     "metadata": {},
     "output_type": "execute_result"
    }
   ],
   "source": [
    "zz.head()"
   ]
  },
  {
   "cell_type": "code",
   "execution_count": 30,
   "metadata": {
    "collapsed": false
   },
   "outputs": [],
   "source": [
    "zy=pd.DataFrame(mms.fit_transform(zz))"
   ]
  },
  {
   "cell_type": "code",
   "execution_count": 31,
   "metadata": {
    "collapsed": false
   },
   "outputs": [],
   "source": [
    "zy.columns=zz.columns"
   ]
  },
  {
   "cell_type": "code",
   "execution_count": 32,
   "metadata": {
    "collapsed": false
   },
   "outputs": [],
   "source": [
    "zy=zy.set_index(zz.index)"
   ]
  },
  {
   "cell_type": "code",
   "execution_count": 33,
   "metadata": {
    "collapsed": false
   },
   "outputs": [
    {
     "data": {
      "text/html": [
       "<div>\n",
       "<table border=\"1\" class=\"dataframe\">\n",
       "  <thead>\n",
       "    <tr style=\"text-align: right;\">\n",
       "      <th></th>\n",
       "      <th>G_Close</th>\n",
       "      <th>rf</th>\n",
       "    </tr>\n",
       "    <tr>\n",
       "      <th>Date</th>\n",
       "      <th></th>\n",
       "      <th></th>\n",
       "    </tr>\n",
       "  </thead>\n",
       "  <tbody>\n",
       "    <tr>\n",
       "      <th>2016-02-09</th>\n",
       "      <td>0.103959</td>\n",
       "      <td>0.129975</td>\n",
       "    </tr>\n",
       "    <tr>\n",
       "      <th>2016-02-10</th>\n",
       "      <td>0.134445</td>\n",
       "      <td>0.317365</td>\n",
       "    </tr>\n",
       "    <tr>\n",
       "      <th>2016-02-11</th>\n",
       "      <td>0.131883</td>\n",
       "      <td>0.197805</td>\n",
       "    </tr>\n",
       "    <tr>\n",
       "      <th>2016-02-12</th>\n",
       "      <td>0.134655</td>\n",
       "      <td>0.320440</td>\n",
       "    </tr>\n",
       "    <tr>\n",
       "      <th>2016-02-16</th>\n",
       "      <td>0.190870</td>\n",
       "      <td>0.409026</td>\n",
       "    </tr>\n",
       "  </tbody>\n",
       "</table>\n",
       "</div>"
      ],
      "text/plain": [
       "             G_Close        rf\n",
       "Date                          \n",
       "2016-02-09  0.103959  0.129975\n",
       "2016-02-10  0.134445  0.317365\n",
       "2016-02-11  0.131883  0.197805\n",
       "2016-02-12  0.134655  0.320440\n",
       "2016-02-16  0.190870  0.409026"
      ]
     },
     "execution_count": 33,
     "metadata": {},
     "output_type": "execute_result"
    }
   ],
   "source": [
    "zy.head()"
   ]
  },
  {
   "cell_type": "code",
   "execution_count": 34,
   "metadata": {
    "collapsed": false
   },
   "outputs": [
    {
     "data": {
      "text/plain": [
       "<matplotlib.axes._subplots.AxesSubplot at 0x7fdab02c5ed0>"
      ]
     },
     "execution_count": 34,
     "metadata": {},
     "output_type": "execute_result"
    },
    {
     "data": {
      "image/png": "[encoded data removed]",
      "text/plain": [
       "<matplotlib.figure.Figure at 0x7fdab02c5610>"
      ]
     },
     "metadata": {},
     "output_type": "display_data"
    }
   ],
   "source": [
    "zy.plot()"
   ]
  },
  {
   "cell_type": "code",
   "execution_count": 35,
   "metadata": {
    "collapsed": true
   },
   "outputs": [],
   "source": [
    "threshold_above = technical_indicator.Addition(random_forest.value, 5)"
   ]
  },
  {
   "cell_type": "code",
   "execution_count": 36,
   "metadata": {
    "collapsed": true
   },
   "outputs": [],
   "source": [
    "threshold_below = technical_indicator.Subtraction(random_forest.value, 5)"
   ]
  },
  {
   "cell_type": "code",
   "execution_count": 37,
   "metadata": {
    "collapsed": true
   },
   "outputs": [],
   "source": [
    "test_dataset.add_technical_indicator(threshold_below)"
   ]
  },
  {
   "cell_type": "code",
   "execution_count": 38,
   "metadata": {
    "collapsed": true
   },
   "outputs": [],
   "source": [
    "test_dataset.add_technical_indicator(threshold_above)"
   ]
  },
  {
   "cell_type": "code",
   "execution_count": 39,
   "metadata": {
    "collapsed": false
   },
   "outputs": [],
   "source": [
    "#test_dataset.data_frame.tail()\n",
    "#test_dataset.data_frame.head()"
   ]
  },
  {
   "cell_type": "code",
   "execution_count": 40,
   "metadata": {
    "collapsed": true
   },
   "outputs": [],
   "source": [
    "enter_crit_long = criteria.Below(symbol.close, threshold_below.value)"
   ]
  },
  {
   "cell_type": "code",
   "execution_count": 41,
   "metadata": {
    "collapsed": true
   },
   "outputs": [],
   "source": [
    "enter_crit_short = criteria.Above(symbol.close, threshold_above.value)"
   ]
  },
  {
   "cell_type": "code",
   "execution_count": 42,
   "metadata": {
    "collapsed": true
   },
   "outputs": [],
   "source": [
    "exit_crit_long = criteria.BarsSinceLong(symbol, 5)\n",
    "exit_crit_short = criteria.BarsSinceShort(symbol, 5)"
   ]
  },
  {
   "cell_type": "code",
   "execution_count": 43,
   "metadata": {
    "collapsed": true
   },
   "outputs": [],
   "source": [
    "enter_crit_group1 = criteria_group.CriteriaGroup([enter_crit_long], Long(), symbol)\n",
    "enter_crit_group2 = criteria_group.CriteriaGroup([enter_crit_short], Short(), symbol)\n",
    "exit_crit_group1 = criteria_group.CriteriaGroup([exit_crit_long], LongExit(), symbol)\n",
    "exit_crit_group2 = criteria_group.CriteriaGroup([exit_crit_short], ShortExit(), symbol)"
   ]
  },
  {
   "cell_type": "code",
   "execution_count": 44,
   "metadata": {
    "collapsed": true
   },
   "outputs": [],
   "source": [
    "tp = trading_profile.TradingProfile(100000, trading_amount.StaticAmount(10000), trading_fee.StaticFee(5))"
   ]
  },
  {
   "cell_type": "code",
   "execution_count": 45,
   "metadata": {
    "collapsed": true
   },
   "outputs": [],
   "source": [
    "strat = strategy.Strategy(test_dataset, [enter_crit_group1, enter_crit_group2, exit_crit_group1, exit_crit_group2], tp)"
   ]
  },
  {
   "cell_type": "code",
   "execution_count": 46,
   "metadata": {
    "collapsed": false
   },
   "outputs": [],
   "source": [
    "strat.simulate()"
   ]
  },
  {
   "cell_type": "code",
   "execution_count": 47,
   "metadata": {
    "collapsed": false
   },
   "outputs": [
    {
     "name": "stdout",
     "output_type": "stream",
     "text": [
      "Trades:\n",
      "GOOGL\n",
      "Trade(datetime=2016-02-11 00:00:00, action=LONG, symbol=GOOGL, price=696.340027, shares=14.0, money=9748.760378, fee=5, slippage=0.0)\n",
      "Trade(datetime=2016-02-22 00:00:00, action=LONG_EXIT, symbol=GOOGL, price=729.51001, shares=14.0, money=10213.14014, fee=5, slippage=0.0)\n",
      "Trade(datetime=2016-02-23 00:00:00, action=LONG, symbol=GOOGL, price=726.099976, shares=14.0, money=10165.399664, fee=5, slippage=0.0)\n",
      "Trade(datetime=2016-03-02 00:00:00, action=LONG_EXIT, symbol=GOOGL, price=742.869995, shares=14.0, money=10400.17993, fee=5, slippage=0.0)\n",
      "Trade(datetime=2016-03-03 00:00:00, action=LONG, symbol=GOOGL, price=739.47998, shares=14.0, money=10352.71972, fee=5, slippage=0.0)\n",
      "Trade(datetime=2016-03-11 00:00:00, action=LONG_EXIT, symbol=GOOGL, price=739.950012, shares=14.0, money=10359.300168, fee=5, slippage=0.0)\n",
      "Trade(datetime=2016-03-14 00:00:00, action=LONG, symbol=GOOGL, price=744.969971, shares=13.0, money=9684.609623, fee=5, slippage=0.0)\n",
      "Trade(datetime=2016-03-22 00:00:00, action=LONG_EXIT, symbol=GOOGL, price=758.440002, shares=13.0, money=9859.720026, fee=5, slippage=0.0)\n",
      "Trade(datetime=2016-03-23 00:00:00, action=LONG, symbol=GOOGL, price=763.349976, shares=13.0, money=9923.549688, fee=5, slippage=0.0)\n",
      "Trade(datetime=2016-04-01 00:00:00, action=LONG_EXIT, symbol=GOOGL, price=757.159973, shares=13.0, money=9843.079649, fee=5, slippage=0.0)\n",
      "Trade(datetime=2016-04-06 00:00:00, action=LONG, symbol=GOOGL, price=757.840027, shares=13.0, money=9851.920351, fee=5, slippage=0.0)\n",
      "Trade(datetime=2016-04-14 00:00:00, action=LONG_EXIT, symbol=GOOGL, price=775.359985, shares=13.0, money=10079.679805, fee=5, slippage=0.0)\n",
      "Trade(datetime=2016-04-18 00:00:00, action=SHORT, symbol=GOOGL, price=780.190002, shares=13.0, money=10142.470026, fee=5, slippage=0.0)\n",
      "Trade(datetime=2016-04-26 00:00:00, action=SHORT_EXIT, symbol=GOOGL, price=744.419983, shares=13.0, money=9677.459779, fee=5, slippage=0.0)\n",
      "Trade(datetime=2016-04-27 00:00:00, action=LONG, symbol=GOOGL, price=725.320007, shares=14.0, money=10154.480098, fee=5, slippage=0.0)\n",
      "Trade(datetime=2016-05-05 00:00:00, action=LONG_EXIT, symbol=GOOGL, price=715.0, shares=14.0, money=10010.0, fee=5, slippage=0.0)\n",
      "Trade(datetime=2016-05-06 00:00:00, action=LONG, symbol=GOOGL, price=712.200012, shares=14.0, money=9970.800168, fee=5, slippage=0.0)\n",
      "Trade(datetime=2016-05-16 00:00:00, action=LONG_EXIT, symbol=GOOGL, price=724.320007, shares=14.0, money=10140.480098, fee=5, slippage=0.0)\n",
      "Trade(datetime=2016-05-17 00:00:00, action=LONG, symbol=GOOGL, price=731.059998, shares=14.0, money=10234.839972, fee=5, slippage=0.0)\n",
      "Trade(datetime=2016-05-25 00:00:00, action=LONG_EXIT, symbol=GOOGL, price=735.0, shares=14.0, money=10290.0, fee=5, slippage=0.0)\n",
      "Trade(datetime=2016-05-26 00:00:00, action=LONG, symbol=GOOGL, price=736.0, shares=14.0, money=10304.0, fee=5, slippage=0.0)\n",
      "Trade(datetime=2016-06-06 00:00:00, action=LONG_EXIT, symbol=GOOGL, price=738.5, shares=14.0, money=10339.0, fee=5, slippage=0.0)\n",
      "Trade(datetime=2016-06-07 00:00:00, action=LONG, symbol=GOOGL, price=733.27002, shares=14.0, money=10265.78028, fee=5, slippage=0.0)\n",
      "Trade(datetime=2016-06-15 00:00:00, action=LONG_EXIT, symbol=GOOGL, price=734.919983, shares=14.0, money=10288.879762, fee=5, slippage=0.0)\n",
      "Trade(datetime=2016-06-16 00:00:00, action=LONG, symbol=GOOGL, price=727.960022, shares=14.0, money=10191.440308, fee=5, slippage=0.0)\n",
      "Trade(datetime=2016-06-24 00:00:00, action=LONG_EXIT, symbol=GOOGL, price=690.169983, shares=14.0, money=9662.379762, fee=5, slippage=0.0)\n",
      "Trade(datetime=2016-06-27 00:00:00, action=LONG, symbol=GOOGL, price=682.48999, shares=15.0, money=10237.34985, fee=5, slippage=0.0)\n",
      "Trade(datetime=2016-07-06 00:00:00, action=LONG_EXIT, symbol=GOOGL, price=699.840027, shares=15.0, money=10497.600405, fee=5, slippage=0.0)\n",
      "Trade(datetime=2016-07-07 00:00:00, action=LONG, symbol=GOOGL, price=710.109985, shares=14.0, money=9941.53979, fee=5, slippage=0.0)\n",
      "Trade(datetime=2016-07-15 00:00:00, action=LONG_EXIT, symbol=GOOGL, price=741.0, shares=14.0, money=10374.0, fee=5, slippage=0.0)\n",
      "Trade(datetime=2016-07-18 00:00:00, action=LONG, symbol=GOOGL, price=737.909973, shares=14.0, money=10330.739622, fee=5, slippage=0.0)\n",
      "Trade(datetime=2016-07-26 00:00:00, action=LONG_EXIT, symbol=GOOGL, price=757.52002, shares=14.0, money=10605.28028, fee=5, slippage=0.0)\n",
      "Trade(datetime=2016-07-27 00:00:00, action=LONG, symbol=GOOGL, price=758.969971, shares=13.0, money=9866.609623, fee=5, slippage=0.0)\n",
      "Trade(datetime=2016-08-04 00:00:00, action=LONG_EXIT, symbol=GOOGL, price=798.23999, shares=13.0, money=10377.11987, fee=5, slippage=0.0)\n",
      "Trade(datetime=2016-08-08 00:00:00, action=SHORT, symbol=GOOGL, price=806.0, shares=12.0, money=9672.0, fee=5, slippage=0.0)\n",
      "Trade(datetime=2016-08-16 00:00:00, action=SHORT_EXIT, symbol=GOOGL, price=803.5, shares=12.0, money=9642.0, fee=5, slippage=0.0)\n",
      "Trade(datetime=2016-08-17 00:00:00, action=SHORT, symbol=GOOGL, price=800.0, shares=13.0, money=10400.0, fee=5, slippage=0.0)\n",
      "Trade(datetime=2016-08-25 00:00:00, action=SHORT_EXIT, symbol=GOOGL, price=792.0, shares=13.0, money=10296.0, fee=5, slippage=0.0)\n",
      "Trade(datetime=2016-08-26 00:00:00, action=SHORT, symbol=GOOGL, price=792.48999, shares=13.0, money=10302.36987, fee=5, slippage=0.0)\n",
      "Trade(datetime=2016-09-06 00:00:00, action=SHORT_EXIT, symbol=GOOGL, price=798.390015, shares=13.0, money=10379.070195, fee=5, slippage=0.0)\n",
      "Trade(datetime=2016-09-07 00:00:00, action=SHORT, symbol=GOOGL, price=807.929993, shares=12.0, money=9695.159916, fee=5, slippage=0.0)\n",
      "Trade(datetime=2016-09-15 00:00:00, action=SHORT_EXIT, symbol=GOOGL, price=790.01001, shares=12.0, money=9480.12012, fee=5, slippage=0.0)\n",
      "Trade(datetime=2016-09-16 00:00:00, action=SHORT, symbol=GOOGL, price=799.02002, shares=13.0, money=10387.26026, fee=5, slippage=0.0)\n",
      "Trade(datetime=2016-09-26 00:00:00, action=SHORT_EXIT, symbol=GOOGL, price=809.820007, shares=13.0, money=10527.660091, fee=5, slippage=0.0)\n",
      "Trade(datetime=2016-09-27 00:00:00, action=SHORT, symbol=GOOGL, price=801.830017, shares=12.0, money=9621.960204, fee=5, slippage=0.0)\n",
      "Trade(datetime=2016-10-05 00:00:00, action=SHORT_EXIT, symbol=GOOGL, price=806.0, shares=12.0, money=9672.0, fee=5, slippage=0.0)\n",
      "Trade(datetime=2016-10-06 00:00:00, action=SHORT, symbol=GOOGL, price=804.080017, shares=12.0, money=9648.960204, fee=5, slippage=0.0)\n",
      "Trade(datetime=2016-10-14 00:00:00, action=SHORT_EXIT, symbol=GOOGL, price=807.450012, shares=12.0, money=9689.400144, fee=5, slippage=0.0)\n",
      "Trade(datetime=2016-10-17 00:00:00, action=SHORT, symbol=GOOGL, price=805.98999, shares=12.0, money=9671.87988, fee=5, slippage=0.0)\n",
      "Trade(datetime=2016-10-25 00:00:00, action=SHORT_EXIT, symbol=GOOGL, price=838.5, shares=12.0, money=10062.0, fee=5, slippage=0.0)\n",
      "Trade(datetime=2016-10-26 00:00:00, action=LONG, symbol=GOOGL, price=827.119995, shares=12.0, money=9925.43994, fee=5, slippage=0.0)\n",
      "Trade(datetime=2016-11-03 00:00:00, action=LONG_EXIT, symbol=GOOGL, price=784.5, shares=12.0, money=9414.0, fee=5, slippage=0.0)\n",
      "Trade(datetime=2016-11-08 00:00:00, action=SHORT, symbol=GOOGL, price=802.030029, shares=12.0, money=9624.360348, fee=5, slippage=0.0)\n",
      "Trade(datetime=2016-11-16 00:00:00, action=SHORT_EXIT, symbol=GOOGL, price=770.419983, shares=12.0, money=9245.039796, fee=5, slippage=0.0)\n",
      "Trade(datetime=2016-11-17 00:00:00, action=SHORT, symbol=GOOGL, price=782.5, shares=13.0, money=10172.5, fee=5, slippage=0.0)\n",
      "Trade(datetime=2016-11-28 00:00:00, action=SHORT_EXIT, symbol=GOOGL, price=778.349976, shares=13.0, money=10118.549688, fee=5, slippage=0.0)\n",
      "Trade(datetime=2016-12-01 00:00:00, action=LONG, symbol=GOOGL, price=778.549988, shares=13.0, money=10121.149844, fee=5, slippage=0.0)\n",
      "Trade(datetime=2016-12-09 00:00:00, action=LONG_EXIT, symbol=GOOGL, price=799.299988, shares=13.0, money=10390.899844, fee=5, slippage=0.0)\n",
      "Trade(datetime=2016-12-12 00:00:00, action=SHORT, symbol=GOOGL, price=804.820007, shares=12.0, money=9657.840084, fee=5, slippage=0.0)\n",
      "Trade(datetime=2016-12-20 00:00:00, action=SHORT_EXIT, symbol=GOOGL, price=813.369995, shares=12.0, money=9760.43994, fee=5, slippage=0.0)\n",
      "Trade(datetime=2016-12-21 00:00:00, action=SHORT, symbol=GOOGL, price=815.719971, shares=12.0, money=9788.639652, fee=5, slippage=0.0)\n",
      "Trade(datetime=2016-12-30 00:00:00, action=SHORT_EXIT, symbol=GOOGL, price=803.210022, shares=12.0, money=9638.520264, fee=5, slippage=0.0)\n",
      "Trade(datetime=2017-01-03 00:00:00, action=SHORT, symbol=GOOGL, price=800.619995, shares=12.0, money=9607.43994, fee=5, slippage=0.0)\n",
      "Trade(datetime=2017-01-11 00:00:00, action=SHORT_EXIT, symbol=GOOGL, price=826.619995, shares=12.0, money=9919.43994, fee=5, slippage=0.0)\n",
      "Trade(datetime=2017-01-20 00:00:00, action=LONG, symbol=GOOGL, price=829.090027, shares=12.0, money=9949.080324, fee=5, slippage=0.0)\n",
      "Trade(datetime=2017-01-30 00:00:00, action=LONG_EXIT, symbol=GOOGL, price=837.059998, shares=12.0, money=10044.719976, fee=5, slippage=0.0)\n",
      "Trade(datetime=2017-01-31 00:00:00, action=LONG, symbol=GOOGL, price=819.5, shares=12.0, money=9834.0, fee=5, slippage=0.0)\n",
      "Trade(datetime=2017-02-08 00:00:00, action=LONG_EXIT, symbol=GOOGL, price=830.530029, shares=12.0, money=9966.360348, fee=5, slippage=0.0)\n",
      "Trade(datetime=2017-02-14 00:00:00, action=LONG, symbol=GOOGL, price=839.77002, shares=12.0, money=10077.24024, fee=5, slippage=0.0)\n",
      "Trade(datetime=2017-02-23 00:00:00, action=LONG_EXIT, symbol=GOOGL, price=851.080017, shares=12.0, money=10212.960204, fee=5, slippage=0.0)\n",
      "Trade(datetime=2017-02-24 00:00:00, action=LONG, symbol=GOOGL, price=847.650024, shares=12.0, money=10171.800288, fee=5, slippage=0.0)\n",
      "Trade(datetime=2017-03-06 00:00:00, action=LONG_EXIT, symbol=GOOGL, price=846.859985, shares=12.0, money=10162.31982, fee=5, slippage=0.0)\n",
      "Trade(datetime=2017-03-07 00:00:00, action=LONG, symbol=GOOGL, price=847.26001, shares=12.0, money=10167.12012, fee=5, slippage=0.0)\n",
      "Trade(datetime=2017-03-15 00:00:00, action=LONG_EXIT, symbol=GOOGL, price=867.940002, shares=12.0, money=10415.280024, fee=5, slippage=0.0)\n",
      "Trade(datetime=2017-03-16 00:00:00, action=LONG, symbol=GOOGL, price=870.530029, shares=11.0, money=9575.830319, fee=5, slippage=0.0)\n",
      "Trade(datetime=2017-03-24 00:00:00, action=LONG_EXIT, symbol=GOOGL, price=842.0, shares=11.0, money=9262.0, fee=5, slippage=0.0)\n",
      "Trade(datetime=2017-03-27 00:00:00, action=LONG, symbol=GOOGL, price=828.090027, shares=12.0, money=9937.080324, fee=5, slippage=0.0)\n",
      "Trade(datetime=2017-04-04 00:00:00, action=LONG_EXIT, symbol=GOOGL, price=848.0, shares=12.0, money=10176.0, fee=5, slippage=0.0)\n",
      "Trade(datetime=2017-04-05 00:00:00, action=LONG, symbol=GOOGL, price=854.710022, shares=12.0, money=10256.520264, fee=5, slippage=0.0)\n",
      "Trade(datetime=2017-04-13 00:00:00, action=LONG_EXIT, symbol=GOOGL, price=841.039978, shares=12.0, money=10092.479736, fee=5, slippage=0.0)\n",
      "Profitability: 62.5\n",
      "# Trades: 40\n",
      "Net Profit: 2122.199476\n",
      "Gross Profit: 5130.720834\n",
      "Gross Loss: -3008.521358\n",
      "Winning Trades: 25\n",
      "Losing Trades: 15\n",
      "Sharpe Ratio: 1.17951703102\n",
      "Avg. Trading Amount: 9990.81602955\n",
      "Avg. Fees: 10.0\n",
      "Avg. Slippage: 0.0\n",
      "Avg. Gains: 0.50047362147\n",
      "Avg. Winner: 2.03368716677\n",
      "Avg. Loser: -2.05488228736\n",
      "Avg. Bars: 6.0\n",
      "Total Fees: 400.0\n",
      "Total Slippage: 0.0\n",
      "Trades Lacking Capital: 0\n",
      "Ongoing Trades: 0\n"
     ]
    }
   ],
   "source": [
    "print strat.report.pretty_overview()"
   ]
  },
  {
   "cell_type": "code",
   "execution_count": null,
   "metadata": {
    "collapsed": true
   },
   "outputs": [],
   "source": []
  }
 ],
 "metadata": {
  "anaconda-cloud": {},
  "kernelspec": {
   "display_name": "Python [default]",
   "language": "python",
   "name": "python2"
  },
  "language_info": {
   "codemirror_mode": {
    "name": "ipython",
    "version": 2
   },
   "file_extension": ".py",
   "mimetype": "text/x-python",
   "name": "python",
   "nbconvert_exporter": "python",
   "pygments_lexer": "ipython2",
   "version": "2.7.12"
  }
 },
 "nbformat": 4,
 "nbformat_minor": 1
}
